{
 "cells": [
  {
   "cell_type": "markdown",
   "metadata": {},
   "source": [
    "熟悉下LaTeX，以后用jupyter做数学类的笔记多一种选择。原文在[这里](http://data-blog.udacity.com/posts/2016/10/latex-primer/).\n",
    "\n",
    "### 行内显示与独占\n",
    "用单个美元符号括起来会被解析为行内公式，如```$y=ax+b$```会显示为 $y=ax+b$，而用两个美元符号括起来的公式则会独占一行，例如```$$P(A\\mid B) = \\frac{P(B\\mid A)P(A)}{P(B)}$$```会显示为 $$P(A\\mid B) = \\frac{P(B\\mid A)P(A)}{P(B)}$$\n",
    "\n",
    "### 上标和下标\n",
    "上标用普通幂次方，如```$e^2$```、```$e^{2x}$```，显示的效果分别是$e^2$、$e^{2x}$；下标用下划线，```$x_i$```、```$_{10}C_5$```会被解析成$x_i$、$_{10}C_5$（能直接以下标开始，通常用于排列组合的算式）\n",
    "\n",
    "### 命令(Commands)\n",
    "一些特殊符号或运算用commands来写，通常是以反斜杠开头。根号与圆周率：```$\\sqrt{2\\pi}$```解析为 $\\sqrt{2\\pi}$；分数线：见上文中的```\\frac```。\n",
    "\n",
    "### 符号\n",
    "- 希腊字母\\alpha, \\beta, \\gamma: $\\alpha, \\beta, \\gamma$，如果要大写的话\\Phi, \\Lambda, \\Gamma: $\\Phi, \\Lambda, \\Gamma$\n",
    "- 三角函数\\sin, \\cosh, \\arctan: $\\sin, \\cosh, \\arctan$\n",
    "- 更多\\infty, \\nabla, \\partial: $\\infty, \\nabla, \\partial$\n",
    "- 数学符号的完整列表参考[这里](http://oeis.org/wiki/List_of_LaTeX_mathematical_symbols)\n",
    "\n",
    "### Accent(翻不出来)\n",
    "- 向量 \\vec{x}, \\overrightarrow{xy} -> $\\vec{x}, \\overrightarrow{xy}$\n",
    "- 均值 \\bar x -> $\\bar x$\n",
    "- 导数 \\dot x, \\ddot x -> $\\dot x, \\ddot x$\n",
    "\n",
    "### 广义括号\n",
    "- 用\\left和\\right命令使括号高度随内容变化```$z = \\left(\\frac{dx}{dy}\\right)^{1/3}$``` -> $z = \\left(\\frac{dx}{dy}\\right)^{1/3}$\n",
    "- 竖线（绝对值或模）\\vert x -> $\\vert x \\vert$。在括号里的竖线（如条件概率）用\\mid，例```P(A\\mid B)``` -> $P(A\\mid B)$\n",
    "\n",
    "\n",
    "- 尖括号```$\\langle \\phi \\mid \\psi \\rangle$``` -> $\\langle \\phi \\mid \\psi \\rangle$\n",
    "- 矩阵用“组括号”(group brackets)，示例：\\left\\lgroup \\matrix{a & b\\cr c & d} \\right\\rgroup 解析为\n",
    "$\\left\\lgroup \\matrix{a & b\\cr c & d} \\right\\rgroup$\n",
    "\n",
    "### 字体/空格/转义\n",
    "目前来看不重要，略\n",
    "\n",
    "### 换行与对齐\n",
    "- 换行用两个反斜杠：\n",
    "```\n",
    "$$\n",
    "a_1 = b_1 + c_1 \\\\\n",
    "a_2 = b_2 + c_2 + d_2\n",
    "$$\n",
    "```\n",
    "效果为\n",
    "$$\n",
    "a_1 = b_1 + c_1 \\\\\n",
    "a_2 = b_2 + c_2 + d_2\n",
    "$$\n",
    "\n",
    "\n",
    "- 对齐：用```\\begin{align}```和```\\end{align}```包起来，其中的&符号用于指示何处为对齐基准\n",
    "```\n",
    "\\begin{align}\n",
    "a_1 & = b_1 + c_1 \\\\\n",
    "a_2 & = b_2 + c_2 + d_2\n",
    "\\end{align}\n",
    "```\n",
    "效果为\n",
    "\\begin{align}\n",
    "a_1 & = b_1 + c_1 \\\\\n",
    "a_2 & = b_2 + c_2 + d_2\n",
    "\\end{align}\n",
    "\n",
    "### 暂别\n",
    "基本熟悉，其他的就边用边学来积累吧。另外记两个网址：\n",
    "1. 关于LaTeX支持符号和命令的完整列表[comprehensive list](http://www.onemathematicalcat.org/MathJaxDocumentation/TeXSyntax.htm)\n",
    "2. 如果不知道具体命令，用鼠标手绘让机器帮忙识别[detexify](http://detexify.kirelabs.org/classify.html)"
   ]
  },
  {
   "cell_type": "code",
   "execution_count": null,
   "metadata": {
    "collapsed": true
   },
   "outputs": [],
   "source": []
  }
 ],
 "metadata": {
  "anaconda-cloud": {},
  "kernelspec": {
   "display_name": "Python [Root]",
   "language": "python",
   "name": "Python [Root]"
  },
  "language_info": {
   "codemirror_mode": {
    "name": "ipython",
    "version": 3
   },
   "file_extension": ".py",
   "mimetype": "text/x-python",
   "name": "python",
   "nbconvert_exporter": "python",
   "pygments_lexer": "ipython3",
   "version": "3.5.2"
  }
 },
 "nbformat": 4,
 "nbformat_minor": 0
}
