{
 "cells": [
  {
   "cell_type": "markdown",
   "metadata": {},
   "source": [
    "### ch1-visualization\n",
    "\n",
    "直方图：与柱状图相比，区别在于每个长方形__柱之间没有间隔__，而且每个长方形的__面积__与频数成正比（直方图每个柱的宽度并不是非相等不可）。柱的高度（称为频数密度）由频数除以区间宽度得到，因为如上所述，对于直方图而言频数是由条柱的面积-而非高度-反映的。\n",
    "\n",
    "累积频数图：可以方便地显示某个特定值以内的频数之和，通常画作折线图。"
   ]
  },
  {
   "cell_type": "markdown",
   "metadata": {
    "collapsed": true
   },
   "source": [
    "### ch2-central tendency\n",
    "\n",
    "均值$\\mu$，中位数，众数(概念上是频数最大的某一个或多个值)。\n",
    "\n",
    "众数可以不止一个，{1,2,3,3,4,4,5}里众数是3和4，它们都是众数！"
   ]
  },
  {
   "cell_type": "markdown",
   "metadata": {},
   "source": [
    "### ch3-variability & spread\n",
    "\n",
    "#### variability\n",
    "\n",
    "全距（极差），四分位数(Q1,Q2,Q3)，其中Q2就是中位数，四分位距(Q3-Q1)。\n",
    "\n",
    "计算方式：先求n/4(Q1)或3n/4(Q3)，如果是整数，则为该位置与下一位置的值平均值，否则如果不是整数，则为向上取整。\n",
    "\n",
    "示例{3,3,6,7,7,10,10,10,11,13,30}，共11个数字，11/4=2.75->3，即第3个数“6”是Q1；3\\*11/4=8.25->9，即第9个数“11”是Q3。\n",
    "\n",
    "百分位数类似，第k百分位数即把上面公式里的分母4换成100，求第k百分位数：k\\*n/100，如果...如果...（同上）\n",
    "\n",
    "箱线图（上下界，Q1,Q2,Q3，IQR）\n",
    "\n",
    "#### spread\n",
    "\n",
    "方差$\\sigma^2=\\frac{\\sum{\\left(x-\\mu\\right)^2}}{n}$，描述<每个数据与均值之间距离的平方>的平均值。方差开根号得标准差$\\sigma$，表示“一般值”与均值的距离。\n",
    "\n",
    "将方差公式的分子按平方公式展开，可以得到变形$\\sigma^2=\\frac{\\sum{x^2}}{n}-\\mu^2$\n",
    "\n",
    "标准分$z=\\frac{x-\\mu}{\\sigma}$，作用是将几个数据集转换成一个理论上的新分布（该分布均值为0、标准差为1），所以能用来比较不同数据集的数据，例<评价两名球员某场比赛，相对于他们各自历史记录，的表现如何>。"
   ]
  },
  {
   "cell_type": "markdown",
   "metadata": {},
   "source": [
    "### ch4-probabilities\n",
    "\n",
    "$P\\left(A\\cup B\\right)=P\\left(A\\right)+P\\left(B\\right)-P\\left(A\\cap B\\right)$ 可以根据韦恩图脑补出来\n",
    "\n",
    "$P\\left(A\\mid B\\right)=\\frac{P\\left(A\\cap B\\right)}{P\\left(B\\right)}$ 也能靠韦恩图脑补，移个项可得\n",
    "$P\\left(A\\cap B\\right)=P\\left(A\\mid B\\right)\\times P\\left(B\\right)=ByTheWay=P\\left(B\\cap A\\right)=P\\left(B\\mid A\\right)\\times P\\left(A\\right)$\n",
    "\n",
    "全概率公式$P\\left(B\\right)=P\\left(A'\\cap B\\right)+P\\left(A\\cap B\\right)\n",
    "=P\\left(B\\mid A'\\right)\\times P\\left(A'\\right)+P\\left(B\\mid A\\right)\\times P\\left(A\\right)$\n",
    "\n",
    "$\\Rightarrow$于是$P\\left(A\\mid B\\right)=\\frac{P\\left(A\\cap B\\right)}{P\\left(B\\right)}=\\frac{P\\left(B\\mid A\\right)\\times P\\left(A\\right)}{P\\left(B\\mid A'\\right)\\times P\\left(A'\\right)+P\\left(B\\mid A\\right)\\times P\\left(A\\right)}$，这就是所谓的__贝叶斯公式__，其分母为全概率公式。\n",
    "\n",
    "__独立性检验__：如果$P\\left(A\\mid B\\right)=P\\left(A\\right)$，说明事件A和B互相独立。\n",
    "\n",
    "顺便，如果A和B独立，则$P\\left(A\\right)=P\\left(A\\mid B\\right)=\\frac{P\\left(A\\cap B\\right)}{P\\left(B\\right)}$\n",
    "$\\Rightarrow$移项得$P\\left(A\\right)\\times P\\left(B\\right)=P\\left(A\\cap B\\right)$ --这个公式是另一种检验相互独立的方法"
   ]
  },
  {
   "cell_type": "markdown",
   "metadata": {
    "collapsed": true
   },
   "source": [
    "### ch5-discrete probability distribution\n",
    "\n",
    "期望$E\\left(X\\right)=\\sum xP\\left(X=x\\right)$\n",
    "\n",
    "方差$Var\\left(X\\right)=E\\left(X-\\mu\\right)^2=根据期望公式=\\sum \\left(x-\\mu\\right)^2P\\left(X=x\\right)$，从概念出发容易理解：因为方差表示的是[[[一般数据与均值的距离]的平方]的均值]。\n",
    "\n",
    "照旧，标准差$\\sigma=\\sqrt{Var\\left(X\\right)}$\n",
    "\n",
    "线性变化公式：$E\\left(aX+b\\right)=aE\\left(X\\right)+b$，$Var\\left(aX+b\\right)=a^2Var\\left(X\\right)$，__非常重要！__\n",
    "\n",
    "多个独立事件，下标表示了多个独立观测结果（n台老虎机(或1台老虎机上n次)，每台(每次)的收益X1, X2,..., Xn的概率分布都相同）：\n",
    "- $E\\left(X_1+X_2+...+X_n\\right)=E\\left(X_1\\right)+E\\left(X_2\\right)+...+E\\left(X_n\\right)=nE\\left(X\\right)$\n",
    "- $Var\\left(X_1+X_2+...+X_n\\right)=Var\\left(X_1\\right)+Var\\left(X_2\\right)+...+Var\\left(X_n\\right)=nVar\\left(X\\right)$\n",
    "\n",
    "同一个基础数据，做线性变换（1台老虎机的收益翻了n倍）：\n",
    "- $E\\left(nX\\right)=nE\\left(X\\right)$\n",
    "- $Var\\left(nX\\right)=n^2Var\\left(X\\right)$\n",
    "\n",
    "__以上两点的区别（独立观测值/线性变换），务必理解__\n",
    "\n",
    "如果X,Y相互独立，那么__<留意方差一直是加的>__\n",
    "- $E\\left(X\\pm Y\\right)=E\\left(X\\right)\\pm E\\left(Y\\right)$\n",
    "- $Var\\left(X\\pm Y\\right)=Var\\left(X\\right)+Var\\left(Y\\right)$ --不论前面是加或减，展开式里总是加的\n",
    "- $E\\left(aX\\pm bY\\right)=aE\\left(X\\right)\\pm bE\\left(Y\\right)$\n",
    "- $Var\\left(aX\\pm bY\\right)=a^2Var\\left(X\\right)+b^2Var\\left(Y\\right)$ --不论前面是加或减，展开式里总是加的"
   ]
  },
  {
   "cell_type": "markdown",
   "metadata": {
    "collapsed": true
   },
   "source": [
    "### ch6-permutations and combinations\n",
    "\n",
    "有A、B两类、共n个对象进行排位，其中一类有j个($A_1,A_2,...,A_j$)，另一类有k个($B_1,B_2,...,B_k$)，\n",
    "\n",
    "如果按个体排，总共有$n!$种可能；如果按种类排，有$\\frac{n!}{j!k!}$种可能\n",
    "\n",
    "因为j个A有 j! 种排法，都包含在 n! 中，但按种类排序时并不关心每个A1、A2、...Aj之间相对位置（不论什么顺序，都只算一种），所以要从 n! 中除去 j!，对于k同理。如果不是A、B两类，而是更多类，也可以自己类推\n",
    "\n",
    "从n个对象里取r个进行排序，有多少种可能？排列公式：$P_n^r=\\frac{n!}{\\left(n-r\\right)!}$，意思是完整有n!种排法，除去第r位后面的(n-r)!种不需要关心的排法\n",
    "\n",
    "继续，如果不关心r个对象的具体顺序，就再除r!，也就是组合公式：$C_n^r=\\frac{n!}{r!\\left(n-r\\right)!}$"
   ]
  },
  {
   "cell_type": "markdown",
   "metadata": {
    "collapsed": true
   },
   "source": [
    "### ch7-geometric, binomial, poisson distributions\n",
    "\n",
    "- 几何分布\n",
    "    - 为获得第一次成功，需要进行r次试验的概率\n",
    "    - $X\\sim Geo\\left(p\\right)$\n",
    "    - $P(X=r)=pq^{r-1}$\n",
    "    - $P(X>r)=q^r$\n",
    "    - $P(X≤r)=1-q^r$\n",
    "    - $E\\left(X\\right)=\\frac{1}{p}$\n",
    "    - $Var\\left(X\\right)=\\frac{q}{p^2}$\n",
    "\n",
    "- 二项分布\n",
    "    - 进行n次试验，其中成功r次的概率\n",
    "    - $X\\sim B\\left(n,p\\right)$\n",
    "    - $P(X=r)=C_n^rp^rq^{n-r}$\n",
    "    - $E\\left(X\\right)=np$\n",
    "    - $Var\\left(X\\right)=npq$\n",
    "\n",
    "\n",
    "- 泊松分布\n",
    "    - 已知给定区间内的平均发生次数$\\lambda$，给定区间内发生r次的概率\n",
    "    - $X\\sim Po\\left(\\lambda\\right)$\n",
    "    - $P\\left(X=r\\right)=\\frac{e^{-\\lambda}\\lambda^r}{r!}$\n",
    "    - $E\\left(X\\right)=\\lambda$\n",
    "    - $Var\\left(X\\right)=\\lambda$\n",
    "    - 如果$X\\sim Po\\left(\\lambda_x\\right), Y\\sim Po\\left(\\lambda_y\\right)$, 则$\\left(X+Y\\right)\\sim Po\\left(\\lambda_x+\\lambda_y\\right)$\n",
    "    - 如果$X\\sim B\\left(n,p\\right)$，当n很大、p很小时，可近似看做$X\\sim Po\\left(np\\right)$\n",
    "\n",
    "泊松分布例题：\n",
    "\n",
    "一辆公交车平均每15分钟停一站，在15分钟内不出现公交车的概率是多少？答：每15分钟内停靠的车辆数为X，则$X\\sim Po\\left(1\\right)$，按公式求$P\\left(X=0\\right)$即可。"
   ]
  },
  {
   "cell_type": "markdown",
   "metadata": {
    "collapsed": true
   },
   "source": [
    "### ch8~9-normal distribution\n",
    "\n",
    "概率密度函数$f\\left(x\\right)$（概率密度可以联系ch1的频数密度来理解），其曲线与x轴围成的面积为代表了概率。例如下面这个正态分布的概率密度函数\n",
    "\n",
    "- 正态分布\n",
    "    - $X\\sim N\\left(\\mu,\\sigma^2\\right)$\n",
    "    - 计算步骤：\n",
    "        1. 确定要计算的范围（对应上面3种图中的哪种）\n",
    "        2. 标准化为$Z\\sim N\\left(0,1\\right)$，其中$Z=\\frac{x-\\mu}{\\sigma}$\n",
    "        3. 查表得出具体的概率数值"
   ]
  },
  {
   "cell_type": "code",
   "execution_count": 1,
   "metadata": {
    "scrolled": true
   },
   "outputs": [
    {
     "data": {
      "text/plain": [
       "<matplotlib.collections.PolyCollection at 0x214c1a8f6d8>"
      ]
     },
     "execution_count": 1,
     "metadata": {},
     "output_type": "execute_result"
    },
    {
     "data": {
      "image/png": "[encoded data removed]",
      "text/plain": [
       "<matplotlib.figure.Figure at 0x214bf2cacc0>"
      ]
     },
     "metadata": {},
     "output_type": "display_data"
    }
   ],
   "source": [
    "%matplotlib inline\n",
    "import matplotlib.pyplot as plt\n",
    "import scipy.stats as stats\n",
    "import numpy as np\n",
    "\n",
    "x = np.arange(-4,4,0.1)\n",
    "x_left = x[np.where(x<-1.5)]\n",
    "x_mid = x[np.where((x>=-1.5) & (x<=1))]\n",
    "x_right = x[np.where(x>=1)]\n",
    "\n",
    "plt.figure(figsize=(17,3))#宽和高，单位是inch\n",
    "plt.subplot(131)\n",
    "plt.plot(x,stats.norm.pdf(x,0,1),'b')\n",
    "plt.fill_between(x_left,stats.norm.pdf(x_left,0,1),np.zeros(len(x_left)), color='blue', alpha=0.25)\n",
    "\n",
    "plt.subplot(132)\n",
    "plt.plot(x,stats.norm.pdf(x,0,1),'g')\n",
    "plt.fill_between(x_mid,stats.norm.pdf(x_mid,0,1),np.zeros(len(x_mid)), color='green', alpha=0.25)\n",
    "\n",
    "plt.subplot(133)\n",
    "plt.plot(x,stats.norm.pdf(x,0,1),'r')\n",
    "plt.fill_between(x_right,stats.norm.pdf(x_right,0,1),np.zeros(len(x_right)), color='red', alpha=0.25)"
   ]
  },
  {
   "cell_type": "markdown",
   "metadata": {
    "collapsed": true
   },
   "source": [
    "如果$X$和$Y$互相独立，且$X\\sim N\\left(\\mu_x,\\sigma_x^2\\right), Y\\sim N\\left(\\mu_y,\\sigma_y^2\\right)$，\n",
    "则$X\\pm Y\\sim N\\left(\\mu_x\\pm \\mu_y,\\sigma_x^2+\\sigma_x^2\\right)$--没写错，方差总是加的\n",
    "\n",
    "与ch5中提到的独立观测值/线性变换一样，连续分布也有：\n",
    "- 线性变换\n",
    "    - $aX+b\\sim N\\left(a\\mu+b,a^2\\sigma^2\\right)$\n",
    "- 独立观察结果\n",
    "    - $X_1+X_2+...+X_n\\sim N\\left(n\\mu,n\\sigma^2\\right)$\n",
    "\n",
    "一般情况下，__np和nq都大于5时__，可用正态分布$X\\sim N\\left(np,npq\\right)$代替二项分布$X\\sim B\\left(n,p\\right)$."
   ]
  },
  {
   "cell_type": "code",
   "execution_count": 2,
   "metadata": {},
   "outputs": [
    {
     "data": {
      "text/plain": [
       "<Container object of 7 artists>"
      ]
     },
     "execution_count": 2,
     "metadata": {},
     "output_type": "execute_result"
    },
    {
     "data": {
      "image/png": "[encoded data removed]",
      "text/plain": [
       "<matplotlib.figure.Figure at 0x214bfb59080>"
      ]
     },
     "metadata": {},
     "output_type": "display_data"
    }
   ],
   "source": [
    "%matplotlib inline\n",
    "import matplotlib.pyplot as plt\n",
    "import scipy.stats as stats\n",
    "import numpy as np\n",
    "import math\n",
    "\n",
    "x = np.arange(0,12.1,0.1)\n",
    "x_6 = np.arange(0,6.1,0.1)\n",
    "x_n0 = np.arange(0,5.6,0.1)\n",
    "x_n1 = np.arange(5.5,6.1,0.1)\n",
    "k = np.arange(0,13)\n",
    "\n",
    "n = 12\n",
    "p = 0.5\n",
    "mu = n*p\n",
    "sigma = math.sqrt(n*p*(1-p)) #stats.norm.pdf第三个参数是标准差，而非方差！\n",
    "\n",
    "plt.figure(figsize=(17,3))\n",
    "\n",
    "plt.subplot(131)\n",
    "plt.xlim(k.min()-0.5,k.max()+0.5)\n",
    "plt.plot(x,stats.norm.pdf(x,mu,sigma),'b')\n",
    "plt.fill_between(x_6,stats.norm.pdf(x_6,mu,sigma),np.zeros(len(x_6)), color='blue', alpha=0.25)\n",
    "#stats.norm.pdf第三个参数是标准差，而非方差！\n",
    "\n",
    "plt.subplot(132)\n",
    "plt.xlim(k.min()-0.5,k.max()+0.5)\n",
    "plt.bar(k-0.5,stats.binom.pmf(k,n,p),width=1,facecolor='c',alpha=0.25)\n",
    "plt.hold(True)\n",
    "plt.plot(x,stats.norm.pdf(x,mu,sigma),'b')\n",
    "plt.fill_between(x_n0,stats.norm.pdf(x_n0,mu,sigma),np.zeros(len(x_n0)), color='blue', alpha=0.65)\n",
    "plt.fill_between(x_n1,stats.norm.pdf(x_n1,mu,sigma),np.zeros(len(x_n1)), color='red', alpha=0.65)\n",
    "\n",
    "plt.subplot(133)\n",
    "plt.xlim(k.min()-0.5,k.max()+0.5)\n",
    "plt.ylim(0,0.001) #调y轴范围，展示下k=0也是有可能的，概率不为0\n",
    "k1 = np.arange(0,6)\n",
    "plt.bar(k1-0.5,stats.binom.pmf(k1,n,p),width=1,facecolor='pink',alpha=0.25)\n",
    "k2 = np.arange(6,13)\n",
    "plt.bar(k2-0.5,stats.binom.pmf(k2,n,p),width=1,facecolor='c',alpha=0.25)\n",
    "#因为宽度width=1，所以概率密度=概率质量除以宽度(1)=概率质量"
   ]
  },
  {
   "cell_type": "markdown",
   "metadata": {},
   "source": [
    "#### 但是，用连续的正态分布代替离散的二项分布，要做相应的修正！\n",
    "假设情境为，要蒙12个判断题，蒙对题数应该符合$X\\sim B\\left(12,0.5\\right)$，判断下$np=nq=12\\times0.5=6>5$符合上述“一般情况”，所以可用正态的$X\\sim N\\left(6,3\\right)$去代替原二项分布。\n",
    "\n",
    "然后要求蒙对题数不超过5题的概率，用二项分布时，答对不超过5题的意思是答对0或1或2或...或5题，概率$P\\left(X<6\\right)$应该是图3中__前6个柱形__的面积之和；\n",
    "\n",
    "但用正态分布时，$P\\left(X<6\\right)$求的是图1中的蓝色阴影面积，也即图2中__蓝、红两块__的面积(分界线为$x=5.5$)；但按照实际情况精确来说，图2中红色块的面积，明显是不应计算在内的。\n",
    "\n",
    "按图1计算的概率为0.5（也不用算，正态一半么当然是0.5），按图3计算的概率为0.387（套公式算6个概率相加），图2中红色块近似成矩形的话可计算面积大约为0.23\\*0.5=0.115，比较下可以发现0.5≈0.387+0.115\n",
    "\n",
    "所以对于本情境，如果要用正态分布，经过连续性修正，应求的是$P\\left(X<5.5\\right)$，经过标准化后查表可得概率为0.3859，与精确值相当接近。下面是一些练习，应该够你理解了：\n",
    "- $x<3 \\ \\ \\ \\ \\ \\ \\ \\ \\ \\ \\ \\ \\ → x<2.5$\n",
    "- $x>3 \\ \\ \\ \\ \\ \\ \\ \\ \\ \\ \\ \\ \\ → x>3.5$\n",
    "- $x≤3 \\ \\ \\ \\ \\ \\ \\ \\ \\ \\ \\ \\ \\ → x<3.5$\n",
    "- $x≥3 \\ \\ \\ \\ \\ \\ \\ \\ \\ \\ \\ \\ \\ → x>2.5$\n",
    "- $x=0 \\ \\ \\ \\ \\ \\ \\ \\ \\ \\ \\ \\ \\ → -0.5<x<0.5$\n",
    "- $x>0 \\ \\ \\ \\ \\ \\ \\ \\ \\ \\ \\ \\ \\ → x>0.5$\n",
    "- $3≤x<10 \\ \\ \\ \\ \\ → 2.5<x<9.5$\n",
    "- $3≤x≤10 \\ \\ \\ \\ \\ → 2.5<x<10.5$\n",
    "- $3<x≤10 \\ \\ \\ \\ \\ → 3.5<x<10.5$\n",
    "- $3<x<10 \\ \\ \\ \\ \\ → 3.5<x<9.5$\n",
    "\n",
    "类似的，也能用正态分布代替泊松分布：当$\\lambda>15$时，可以用$X\\sim N\\left(\\lambda,\\lambda\\right)$代替$X\\sim Po\\left(\\lambda\\right)$，__但是要记得进行连续性修正__！"
   ]
  },
  {
   "cell_type": "markdown",
   "metadata": {
    "collapsed": true
   },
   "source": [
    "### ch10-statistic sampling - 略\n",
    "### ch11-making predictions\n",
    "\n",
    "- __点估计量__：可用于估计总体参数的某个函数或算式。\n",
    "\n",
    "    样本均值$\\bar x=\\frac{\\sum x}{n}$是总体均值$\\mu$的点估计量$\\hat \\mu$，即$\\mu \\approx \\hat \\mu = \\bar x=\\frac{\\sum x}{n}$，其中__n是样本数量__。\n",
    "\n",
    "    总体方差$\\sigma^2$的点估计量$\\hat \\sigma^2=S^2=\\frac{\\sum \\left(x-\\bar x\\right)^2}{n-1}$，其中__n是样本数量__。分母为(n-1)是因为，既然样本数量比总体数量少，那么与均值的偏差的总和肯定也小了，除以(n-1)而非n可对此稍作修正。\n",
    "\n",
    "    复习下总体方差的公式$\\sigma^2=\\frac{\\sum \\left(x-\\mu\\right)^2}{n}$，其中__n是总体数量__,其中__n是总体数量__,其中__n是总体数量__.\n",
    "\n",
    "\n",
    "- __比例的抽样分布__（样本比例的概率分布）\n",
    "\n",
    "    总体参数已知，求样本比例本身的概率。示例情境：生产了一大批糖球，其中红色的概率是0.25，把这批糖球包装成100粒一盒的规格出售。求买到一盒，其中有不少于40粒红色糖球的概率。\n",
    "    \n",
    "    一个样本（一盒100粒）中，红色糖球的数量$X\\sim B\\left(n,p\\right)$，其中样本数量$n=100$，“成功率”$p=0.25$，相应的，样本中红色糖球的比例$P_s=\\frac{X}{n}$\n",
    "    \n",
    "    按照上文二项分布和__线性变换__有关规矩，$E\\left(P_s\\right)=\\frac{E\\left(X\\right)}{n}=\\frac{np}{n}=p$，$Var\\left(P_s\\right)=\\frac{Var\\left(X\\right)}{n^2}=\\frac{npq}{n^2}=\\frac{pq}{n}$\n",
    "    \n",
    "    __当n很大，$n>30$时__，$P_s$的__接近正态__分布（只要是人为做出来的事，很多都符合正态分布--__知乎语__），即$P_s\\sim N\\left(p,\\frac{pq}{n}\\right)$\n",
    "    \n",
    "    [__很重要__]连续性修正：$X$的连续性修正为$\\pm \\frac{1}{2}$（糖球粒数是自然数），相应的，概率$P_s=\\frac{X}{n}$的连续性修正为$\\pm \\frac{1}{2n}$\n",
    "    \n",
    "    最后问题变成已知$P_s\\sim N\\left(0.25,0.001875\\right)$，再经过连续性修正，实际要求的是$P\\left(P_s≥0.395\\right)$\n",
    "\n",
    "\n",
    "- __均值的抽样分布__\n",
    "\n",
    "    情境：也有小包装卖的，总体统计结果每袋粒数均值10，方差1. 如果买30袋，求每袋的平均粒数不超过8.5的概率，也就是说30袋的每袋粒数的均值小于等于8.5的概率。\n",
    "    \n",
    "    已知总体$\\mu$和$\\sigma^2$，一袋包装中的粒数用$X$表示，如果用$X_i$表示随机选择的一袋中的粒数（__独立观察结果__），则每个$X_i$的期望都是$\\mu$，方差都是$\\sigma^2$。取其中n袋作为样本，用$\\bar X=\\frac{X_1+X_2+...+X_n}{n}$表示这n袋的容量的均值。要先知道$\\bar X$的分布，才能求概率。\n",
    "    \n",
    "    线性变换：$E\\left(\\bar X\\right)=E\\left(\\frac{X_1+X_2+...+X_n}{n}\\right)=\\frac{1}{n}\\left(E\\left(X_1\\right)+E\\left(X_2\\right)+...+E\\left(X_n\\right)\\right)=\\frac{1}{n}\\left(\\mu+\\mu+...+\\mu\\right)=\\mu$\n",
    "    \n",
    "    $Var\\left(\\bar X\\right)=Var\\left(\\frac{X_1+X_2+...+X_n}{n}\\right)=\\frac{1}{n^2}\\left(Var\\left(X_1\\right)+Var\\left(X_2\\right)+...+Var\\left(X_n\\right)\\right)=\\frac{1}{n^2}\\left(\\sigma^2+\\sigma^2+...+\\sigma^2\\right)=\\frac{\\sigma^2}{n}$\n",
    "    \n",
    "    [__!__]__中心极限定理__：[PRE, 如果$X$符合正态分布，则$\\bar X$自然也是，样本大小无所谓] __如果$X$不是正态分布，但样本数量$n$很大，如$n>30$，则$\\bar X$近似为正态分布，并且均值和方差都可根据总体参数求得，于是$\\bar X\\sim N\\left(\\mu, \\sigma^2/n\\right)$__.\n",
    "    \n",
    "    当__样本数量n够大__时应用中心极限定理，套公式可得__结论__：\n",
    "    1. （样本数量无所谓）如果$X\\sim N\\left(\\mu, \\sigma^2\\right)$，则$\\bar X\\sim N\\left(\\mu, \\sigma^2/n\\right)$\n",
    "    1. 如果$X\\sim B\\left(n,p\\right)$，则$\\bar X\\sim N\\left(np,pq\\right)$\n",
    "    1. 如果$X\\sim Po\\left(\\lambda\\right)$，则$\\bar X\\sim N\\left(\\lambda,\\lambda/n\\right)$\n",
    "    \n",
    "  于是本题情境：已知$\\bar X\\sim N\\left(10, 1/30\\right)$，求$P\\left(\\bar X<8.5\\right)$."
   ]
  },
  {
   "cell_type": "markdown",
   "metadata": {},
   "source": [
    "### ch12-confidence intervals-并不透彻\n",
    "\n",
    "置信水平为95%的置信区间(a,b)表示：该统计量落在a、b之间的概率是95%。下面是情境演示：\n",
    "\n",
    "样本大小为100颗，总体均值的点估计量$\\hat \\mu=\\bar x=62.7$，总体方差的点估计量$\\hat \\sigma^2=s^2=25$，求置信水平为95%的置信区间。\n",
    "\n",
    "step by step:\n",
    "1. 确定总体统计量：是$\\mu$\n",
    "\n",
    "2. 求总体统计量的抽样分布：根据上一章，均值的抽样分布的期望$E\\left(\\bar X\\right)=\\mu$和方差$Var\\left(\\bar X\\right)=\\sigma^2/n$\n",
    "\n",
    "3. 【中心极限定理】因为样本数量已经足够大，因此$\\bar X$符合正态分布，用$s^2$代替$\\sigma^2$，于是$\\bar X\\sim N\\left(\\mu, s^2/n\\right)$或$\\bar X\\sim N\\left(\\mu, 0.25\\right)$，这时别像方差那样拿$\\hat \\mu$代$\\mu$，因为现在求的正是$\\mu$的置信区间\n",
    "\n",
    "4. 题问95%，所以下图左侧浅紫色块和右侧浅绿色块的面积应各为0.025，中间浅橙色块面积为0.95 ——面积对应着即是概率\n",
    "\n",
    "5. 用(a,b)表示置信区间，那么$P\\left(\\bar X<a\\right)=0.025, P\\left(\\bar X>b\\right)=0.025$\n",
    "\n",
    "6. 按正态分布来，$Z=\\frac{\\bar X-\\mu}{\\sqrt{0.25}}$，其中$Z\\sim N\\left(0,1\\right)$\n",
    "\n",
    "7. 查表可以确定使得$P\\left(Z<z_a\\right)=0.025$和$P\\left(Z>z_b\\right)=0.025$的$z_a$和$z_b$\n",
    "\n",
    "8. 求不等式$z_a<\\frac{\\bar X-\\mu}{\\sqrt{0.25}}<z_b$，得出$\\bar X-0.98<\\mu<\\bar X+0.98$\n",
    "\n",
    "9. 拿样本均值$\\bar x$代入，得出$\\mu$的置信区间"
   ]
  },
  {
   "cell_type": "code",
   "execution_count": 18,
   "metadata": {},
   "outputs": [
    {
     "data": {
      "text/plain": [
       "<matplotlib.collections.PolyCollection at 0x11dd7a240>"
      ]
     },
     "execution_count": 18,
     "metadata": {},
     "output_type": "execute_result"
    },
    {
     "data": {
      "image/png": "[encoded data removed]",
      "text/plain": [
       "<matplotlib.figure.Figure at 0x11dc1be48>"
      ]
     },
     "metadata": {},
     "output_type": "display_data"
    }
   ],
   "source": [
    "%matplotlib inline\n",
    "import matplotlib.pyplot as plt\n",
    "import scipy.stats as stats\n",
    "import numpy as np\n",
    "import math\n",
    "\n",
    "hat_mu = 62.7\n",
    "hat_sigma = math.sqrt(0.25)\n",
    "\n",
    "x=np.arange(61,64.5,0.05)\n",
    "plt.plot(x,stats.norm.pdf(x,hat_mu,hat_sigma),'r')\n",
    "xl=np.arange(61,61.76,0.04) #假装不知道，只是为了画图\n",
    "xm=np.arange(61.72,63.68,0.05) #假装不知道，只是为了画图\n",
    "xr=np.arange(63.68,64.5,0.05) #假装不知道，只是为了画图\n",
    "plt.fill_between(xl,stats.norm.pdf(xl,hat_mu,hat_sigma),np.zeros(len(xl)), color='blue', alpha=0.25)\n",
    "plt.fill_between(xm,stats.norm.pdf(xm,hat_mu,hat_sigma),np.zeros(len(xm)), color='orange', alpha=0.25)\n",
    "plt.fill_between(xr,stats.norm.pdf(xr,hat_mu,hat_sigma),np.zeros(len(xr)), color='green', alpha=0.25)"
   ]
  }
 ],
 "metadata": {
  "anaconda-cloud": {},
  "kernelspec": {
   "display_name": "Python 3",
   "language": "python",
   "name": "python3"
  },
  "language_info": {
   "codemirror_mode": {
    "name": "ipython",
    "version": 3
   },
   "file_extension": ".py",
   "mimetype": "text/x-python",
   "name": "python",
   "nbconvert_exporter": "python",
   "pygments_lexer": "ipython3",
   "version": "3.6.1"
  }
 },
 "nbformat": 4,
 "nbformat_minor": 1
}
