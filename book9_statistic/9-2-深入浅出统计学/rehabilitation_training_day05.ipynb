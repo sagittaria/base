{
 "cells": [
  {
   "cell_type": "markdown",
   "metadata": {},
   "source": [
    "### ch1-visualization\n",
    "\n",
    "直方图：与柱状图相比，区别在于每个长方形__柱之间没有间隔__，而且每个长方形的__面积__与频数成正比（直方图每个柱的宽度并不是非相等不可）。柱的高度（称为频数密度）由频数除以区间宽度得到，因为如上所述，对于直方图而言频数是由条柱的面积-而非高度-反映的。\n",
    "\n",
    "累积频数图：可以方便地显示某个特定值以内的频数之和，通常画作折线图。"
   ]
  },
  {
   "cell_type": "markdown",
   "metadata": {
    "collapsed": true
   },
   "source": [
    "### ch2-central tendency\n",
    "\n",
    "均值$\\mu$，中位数，众数(概念上是频数最大的某一个或多个值)。\n",
    "\n",
    "众数可以不止一个，{1,2,3,3,4,4,5}里众数是3和4，它们都是众数！"
   ]
  },
  {
   "cell_type": "markdown",
   "metadata": {},
   "source": [
    "### ch3-variability & spread\n",
    "\n",
    "#### variability\n",
    "\n",
    "全距（极差），四分位数(Q1,Q2,Q3)，其中Q2就是中位数，四分位距(Q3-Q1)。\n",
    "\n",
    "计算方式：先求n/4(Q1)或3n/4(Q3)，如果是整数，则为该位置与下一位置的值平均值，否则如果不是整数，则为向上取整。\n",
    "\n",
    "示例{3,3,6,7,7,10,10,10,11,13,30}，共11个数字，11/4=2.75->3，即第3个数“6”是Q1；3\\*11/4=8.25->9，即第9个数“11”是Q3。\n",
    "\n",
    "百分位数类似，第k百分位数即把上面公式里的分母4换成100，求第k百分位数：k\\*n/100，如果...如果...（同上）\n",
    "\n",
    "箱线图（上下界，Q1,Q2,Q3，IQR）\n",
    "\n",
    "#### spread\n",
    "\n",
    "方差$\\sigma^2=\\frac{\\sum{\\left(x-\\mu\\right)^2}}{n}$，描述<每个数据与均值之间距离的平方>的平均值。方差开根号得标准差$\\sigma$，表示“一般值”与均值的距离。\n",
    "\n",
    "将方差公式的分子按平方公式展开，可以得到变形$\\sigma^2=\\frac{\\sum{x^2}}{n}-\\mu^2$\n",
    "\n",
    "标准分$z=\\frac{x-\\mu}{\\sigma}$，作用是将几个数据集转换成一个理论上的新分布（该分布均值为0、标准差为1），所以能用来比较不同数据集的数据，例<评价两名球员某场比赛，相对于他们各自历史记录，的表现如何>。"
   ]
  },
  {
   "cell_type": "markdown",
   "metadata": {},
   "source": [
    "### ch4-probabilities\n",
    "\n",
    "$P\\left(A\\cup B\\right)=P\\left(A\\right)+P\\left(B\\right)-P\\left(A\\cap B\\right)$ 可以根据韦恩图脑补出来\n",
    "\n",
    "$P\\left(A\\mid B\\right)=\\frac{P\\left(A\\cap B\\right)}{P\\left(B\\right)}$ 也能靠韦恩图脑补，移个项可得\n",
    "$P\\left(A\\cap B\\right)=P\\left(A\\mid B\\right)\\times P\\left(B\\right)=ByTheWay=P\\left(B\\cap A\\right)=P\\left(B\\mid A\\right)\\times P\\left(A\\right)$\n",
    "\n",
    "全概率公式$P\\left(B\\right)=P\\left(A'\\cap B\\right)+P\\left(A\\cap B\\right)\n",
    "=P\\left(B\\mid A'\\right)\\times P\\left(A'\\right)+P\\left(B\\mid A\\right)\\times P\\left(A\\right)$\n",
    "\n",
    "$\\Rightarrow$于是$P\\left(A\\mid B\\right)=\\frac{P\\left(A\\cap B\\right)}{P\\left(B\\right)}=\\frac{P\\left(B\\mid A\\right)\\times P\\left(A\\right)}{P\\left(B\\mid A'\\right)\\times P\\left(A'\\right)+P\\left(B\\mid A\\right)\\times P\\left(A\\right)}$，这就是所谓的__贝叶斯公式__，其分母为全概率公式。\n",
    "\n",
    "__独立性检验__：如果$P\\left(A\\mid B\\right)=P\\left(A\\right)$，说明事件A和B互相独立。\n",
    "\n",
    "顺便，如果A和B独立，则$P\\left(A\\right)=P\\left(A\\mid B\\right)=\\frac{P\\left(A\\cap B\\right)}{P\\left(B\\right)}$\n",
    "$\\Rightarrow$移项得$P\\left(A\\right)\\times P\\left(B\\right)=P\\left(A\\cap B\\right)$ --这个公式是另一种检验相互独立的方法"
   ]
  },
  {
   "cell_type": "markdown",
   "metadata": {
    "collapsed": true
   },
   "source": [
    "### ch5-discrete probability distribution\n",
    "\n",
    "期望$E\\left(X\\right)=\\sum xP\\left(X=x\\right)$\n",
    "\n",
    "方差$Var\\left(X\\right)=E\\left(X-\\mu\\right)^2=根据期望公式=\\sum \\left(x-\\mu\\right)^2P\\left(X=x\\right)$，从概念出发容易理解：因为方差表示的是[[[一般数据与均值的距离]的平方]的均值]。\n",
    "\n",
    "照旧，标准差$\\sigma=\\sqrt{Var\\left(X\\right)}$\n",
    "\n",
    "线性变化公式：$E\\left(aX+b\\right)=aE\\left(X\\right)+b$，$Var\\left(aX+b\\right)=a^2Var\\left(X\\right)$，__非常重要！__\n",
    "\n",
    "多个独立事件，下标表示了多个独立观测结果（n台老虎机(或1台老虎机上n次)，每台(每次)的收益X1, X2,..., Xn的概率分布都相同）：\n",
    "- $E\\left(X_1+X_2+...+X_n\\right)=E\\left(X_1\\right)+E\\left(X_2\\right)+...+E\\left(X_n\\right)=nE\\left(X\\right)$\n",
    "- $Var\\left(X_1+X_2+...+X_n\\right)=Var\\left(X_1\\right)+Var\\left(X_2\\right)+...+Var\\left(X_n\\right)=nVar\\left(X\\right)$\n",
    "\n",
    "同一个基础数据，做线性变换（1台老虎机的收益翻了n倍）：\n",
    "- $E\\left(nX\\right)=nE\\left(X\\right)$\n",
    "- $Var\\left(nX\\right)=n^2Var\\left(X\\right)$\n",
    "\n",
    "__以上两点的区别（独立观测值/线性变换），务必理解__\n",
    "\n",
    "如果X,Y相互独立，那么__<留意方差一直是加的>__\n",
    "- $E\\left(X\\pm Y\\right)=E\\left(X\\right)\\pm E\\left(Y\\right)$\n",
    "- $Var\\left(X\\pm Y\\right)=Var\\left(X\\right)+Var\\left(Y\\right)$ --不论前面是加或减，展开式里总是加的\n",
    "- $E\\left(aX\\pm bY\\right)=aE\\left(X\\right)\\pm bE\\left(Y\\right)$\n",
    "- $Var\\left(aX\\pm bY\\right)=a^2Var\\left(X\\right)+b^2Var\\left(Y\\right)$ --不论前面是加或减，展开式里总是加的"
   ]
  },
  {
   "cell_type": "markdown",
   "metadata": {
    "collapsed": true
   },
   "source": [
    "### ch6-permutations and combinations\n",
    "\n",
    "有A、B两类、共n个对象进行排位，其中一类有j个($A_1,A_2,...,A_j$)，另一类有k个($B_1,B_2,...,B_k$)，\n",
    "\n",
    "如果按个体排，总共有$n!$种可能；如果按种类排，有$\\frac{n!}{j!k!}$种可能\n",
    "\n",
    "因为j个A有 j! 种排法，都包含在 n! 中，但按种类排序时并不关心每个A1、A2、...Aj之间相对位置（不论什么顺序，都只算一种），所以要从 n! 中除去 j!，对于k同理。如果不是A、B两类，而是更多类，也可以自己类推\n",
    "\n",
    "从n个对象里取r个进行排序，有多少种可能？排列公式：$P_n^r=\\frac{n!}{\\left(n-r\\right)!}$，意思是完整有n!种排法，除去第r位后面的(n-r)!种不需要关心的排法\n",
    "\n",
    "继续，如果不关心r个对象的具体顺序，就再除r!，也就是组合公式：$C_n^r=\\frac{n!}{r!\\left(n-r\\right)!}$"
   ]
  },
  {
   "cell_type": "markdown",
   "metadata": {
    "collapsed": true
   },
   "source": [
    "### ch7-geometric, binomial, poisson distributions\n",
    "\n",
    "- 几何分布\n",
    "    - 为获得第一次成功，需要进行r次试验的概率\n",
    "    - $X\\sim Geo\\left(p\\right)$\n",
    "    - $P(X=r)=pq^{r-1}$\n",
    "    - $P(X>r)=q^r$\n",
    "    - $P(X≤r)=1-q^r$\n",
    "    - $E\\left(X\\right)=\\frac{1}{p}$\n",
    "    - $Var\\left(X\\right)=\\frac{q}{p^2}$\n",
    "\n",
    "- 二项分布\n",
    "    - 进行n次试验，其中成功r次的概率\n",
    "    - $X\\sim B\\left(n,p\\right)$\n",
    "    - $P(X=r)=C_n^rp^rq^{n-r}$\n",
    "    - $E\\left(X\\right)=np$\n",
    "    - $Var\\left(X\\right)=npq$\n",
    "\n",
    "\n",
    "- 泊松分布\n",
    "    - 已知给定区间内的平均发生次数$\\lambda$，给定区间内发生r次的概率\n",
    "    - $X\\sim Po\\left(\\lambda\\right)$\n",
    "    - $P\\left(X=r\\right)=\\frac{e^{-\\lambda}\\lambda^r}{r!}$\n",
    "    - $E\\left(X\\right)=\\lambda$\n",
    "    - $Var\\left(X\\right)=\\lambda$\n",
    "    - 如果$X\\sim Po\\left(\\lambda_x\\right), Y\\sim Po\\left(\\lambda_y\\right)$, 则$\\left(X+Y\\right)\\sim Po\\left(\\lambda_x+\\lambda_y\\right)$\n",
    "    - 如果$X\\sim B\\left(n,p\\right)$，当n很大、p很小时，可近似看做$X\\sim Po\\left(np\\right)$\n",
    "\n",
    "泊松分布例题：\n",
    "\n",
    "一辆公交车平均每15分钟停一站，在15分钟内不出现公交车的概率是多少？答：每15分钟内停靠的车辆数为X，则$X\\sim Po\\left(1\\right)$，按公式求$P\\left(X=0\\right)$即可。"
   ]
  },
  {
   "cell_type": "markdown",
   "metadata": {
    "collapsed": true
   },
   "source": [
    "### ch8-normal distribution\n",
    "\n",
    "概率密度函数$f\\left(x\\right)$（概率密度可以联系ch1的频数密度来理解），其曲线与x轴围成的面积为代表了概率。例如下面这个正态分布的概率密度函数\n",
    "\n",
    "- 正态分布\n",
    "    - $X\\sim N\\left(\\mu,\\sigma^2\\right)$\n",
    "    - 计算步骤：\n",
    "        1. 确定要计算的范围（对应上面3种图中的哪种）\n",
    "        2. 标准化为$Z\\sim N\\left(0,1\\right)$，其中$Z=\\frac{x-\\mu}{\\sigma}$\n",
    "        3. 查表得出具体的概率数值"
   ]
  },
  {
   "cell_type": "code",
   "execution_count": 1,
   "metadata": {
    "collapsed": false,
    "scrolled": true
   },
   "outputs": [
    {
     "data": {
      "text/plain": [
       "<matplotlib.collections.PolyCollection at 0x17f31e91518>"
      ]
     },
     "execution_count": 1,
     "metadata": {},
     "output_type": "execute_result"
    },
    {
     "data": {
      "image/png": "[encoded data removed]",
      "text/plain": [
       "<matplotlib.figure.Figure at 0x17f2f6efcf8>"
      ]
     },
     "metadata": {},
     "output_type": "display_data"
    }
   ],
   "source": [
    "%matplotlib inline\n",
    "\n",
    "import matplotlib.pyplot as plt\n",
    "import scipy.stats as stats\n",
    "import numpy as np\n",
    "\n",
    "x = np.arange(-4,4,0.1)\n",
    "x_left = x[np.where(x<-1.5)]\n",
    "x_mid = x[np.where((x>=-1.5) & (x<=1))]\n",
    "x_right = x[np.where(x>=1)]\n",
    "\n",
    "plt.figure(figsize=(17,3))#宽和高，单位是inch\n",
    "plt.subplot(131)\n",
    "plt.plot(x,stats.norm.pdf(x,0,1),'b')\n",
    "plt.fill_between(x_left,stats.norm.pdf(x_left,0,1),np.zeros(len(x_left)), color='blue', alpha=0.25)\n",
    "\n",
    "plt.subplot(132)\n",
    "plt.plot(x,stats.norm.pdf(x,0,1),'g')\n",
    "plt.fill_between(x_mid,stats.norm.pdf(x_mid,0,1),np.zeros(len(x_mid)), color='green', alpha=0.25)\n",
    "\n",
    "plt.subplot(133)\n",
    "plt.plot(x,stats.norm.pdf(x,0,1),'r')\n",
    "plt.fill_between(x_right,stats.norm.pdf(x_right,0,1),np.zeros(len(x_right)), color='red', alpha=0.25)"
   ]
  },
  {
   "cell_type": "markdown",
   "metadata": {
    "collapsed": true
   },
   "source": []
  }
 ],
 "metadata": {
  "anaconda-cloud": {},
  "kernelspec": {
   "display_name": "Python [Root]",
   "language": "python",
   "name": "Python [Root]"
  },
  "language_info": {
   "codemirror_mode": {
    "name": "ipython",
    "version": 3
   },
   "file_extension": ".py",
   "mimetype": "text/x-python",
   "name": "python",
   "nbconvert_exporter": "python",
   "pygments_lexer": "ipython3",
   "version": "3.5.2"
  }
 },
 "nbformat": 4,
 "nbformat_minor": 1
}
