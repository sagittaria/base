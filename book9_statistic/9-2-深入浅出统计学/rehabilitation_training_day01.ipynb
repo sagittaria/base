{
 "cells": [
  {
   "cell_type": "markdown",
   "metadata": {},
   "source": [
    "### ch1-visualization\n",
    "\n",
    "直方图：与柱状图相比，区别在于每个长方形__柱之间没有间隔__，而且每个长方形的__面积__与频数成正比（直方图每个柱的宽度并不是非相等不可）。柱的高度（称为频数密度）由频数除以区间宽度得到，因为如上所述，对于直方图而言频数是由条柱的面积-而非高度-反映的。\n",
    "\n",
    "累积频数图：可以方便地显示某个特定值以内的频数之和，通常画作折线图。"
   ]
  },
  {
   "cell_type": "markdown",
   "metadata": {
    "collapsed": true
   },
   "source": [
    "### ch2-central tendency\n",
    "\n",
    "均值$\\mu$，中位数，众数(概念上是频数最大的某一个或多个值)。\n",
    "\n",
    "众数可以不止一个，{1,2,3,3,4,4,5}里众数是3和4，它们都是众数！"
   ]
  },
  {
   "cell_type": "markdown",
   "metadata": {},
   "source": [
    "### ch3-variability & spread\n",
    "\n",
    "#### variability\n",
    "\n",
    "全距（极差），四分位数(Q1,Q2,Q3)，其中Q2就是中位数，四分位距(Q3-Q1)。\n",
    "\n",
    "计算方式：先求n/4(Q1)或3n/4(Q3)，如果是整数，则为该位置与下一位置的值平均值，否则如果不是整数，则为向上取整。\n",
    "\n",
    "示例{3,3,6,7,7,10,10,10,11,13,30}，共11个数字，11/4=2.75->3，即第3个数“6”是Q1；3\\*11/4=8.25->9，即第9个数“11”是Q3。\n",
    "\n",
    "百分位数类似，第k百分位数即把上面公式里的分母4换成100，求第k百分位数：k\\*n/100，如果...如果...（同上）\n",
    "\n",
    "箱线图（上下界，Q1,Q2,Q3，IQR）\n",
    "\n",
    "#### spread\n",
    "\n",
    "方差$\\sigma^2=\\frac{\\sum{\\left(x-\\mu\\right)^2}}{n}$，描述<每个数据与均值之间距离的平方>的平均值。方差开根号得标准差$\\sigma$，表示“一般值”与均值的距离。\n",
    "\n",
    "将方差公式的分子按平方公式展开，可以得到变形$\\sigma^2=\\frac{\\sum{x^2}}{n}-\\mu^2$\n",
    "\n",
    "标准分$z=\\frac{x-\\mu}{\\sigma}$，作用是将几个数据集转换成一个理论上的新分布（该分布均值为0、标准差为1），所以能用来比较不同数据集的数据，例<评价两名球员某场比赛，相对于他们各自历史记录，的表现如何>。"
   ]
  },
  {
   "cell_type": "markdown",
   "metadata": {},
   "source": [
    "### ch4-probabilities\n",
    "\n",
    "$P\\left(A\\cup B\\right)=P\\left(A\\right)+P\\left(B\\right)-P\\left(A\\cap B\\right)$ 可以根据韦恩图脑补出来\n",
    "\n",
    "$P\\left(A\\mid B\\right)=\\frac{P\\left(A\\cap B\\right)}{P\\left(B\\right)}$ 也能靠韦恩图脑补，移个项可得\n",
    "$P\\left(A\\cap B\\right)=P\\left(A\\mid B\\right)\\times P\\left(B\\right)=ByTheWay=P\\left(B\\cap A\\right)=P\\left(B\\mid A\\right)\\times P\\left(A\\right)$\n",
    "\n",
    "全概率公式$P\\left(B\\right)=P\\left(A'\\cap B\\right)+P\\left(A\\cap B\\right)\n",
    "=P\\left(B\\mid A'\\right)\\times P\\left(A'\\right)+P\\left(B\\mid A\\right)\\times P\\left(A\\right)$\n",
    "\n",
    "$\\Rightarrow$于是$P\\left(A\\mid B\\right)=\\frac{P\\left(A\\cap B\\right)}{P\\left(B\\right)}=\\frac{P\\left(B\\mid A\\right)\\times P\\left(A\\right)}{P\\left(B\\mid A'\\right)\\times P\\left(A'\\right)+P\\left(B\\mid A\\right)\\times P\\left(A\\right)}$，这就是所谓的__贝叶斯公式__，其分母为全概率公式。\n",
    "\n",
    "__独立性检验__：如果$P\\left(A\\mid B\\right)=P\\left(A\\right)$，说明事件A和B互相独立。\n",
    "\n",
    "顺便，如果A和B独立，则$P\\left(A\\right)=P\\left(A\\mid B\\right)=\\frac{P\\left(A\\cap B\\right)}{P\\left(B\\right)}$\n",
    "$\\Rightarrow$移项得$P\\left(A\\right)\\times P\\left(B\\right)=P\\left(A\\cap B\\right)$ --这个公式是另一种检验相互独立的方法"
   ]
  },
  {
   "cell_type": "code",
   "execution_count": null,
   "metadata": {
    "collapsed": true
   },
   "outputs": [],
   "source": []
  }
 ],
 "metadata": {
  "kernelspec": {
   "display_name": "Python [Root]",
   "language": "python",
   "name": "Python [Root]"
  },
  "language_info": {
   "codemirror_mode": {
    "name": "ipython",
    "version": 3
   },
   "file_extension": ".py",
   "mimetype": "text/x-python",
   "name": "python",
   "nbconvert_exporter": "python",
   "pygments_lexer": "ipython3",
   "version": "3.5.2"
  }
 },
 "nbformat": 4,
 "nbformat_minor": 0
}
