{
 "cells": [
  {
   "cell_type": "markdown",
   "metadata": {},
   "source": [
    "### ch1-可视化\n",
    "\n",
    "直方图：与柱状图相比，区别在于每个长方形__柱之间没有间隔__，而且每个长方形的__面积__与频数成正比（直方图每个柱的宽度并不是非相等不可）。柱的高度（称为频数密度）由频数除以区间宽度得到，因为如上所述，对于直方图而言频数是由条柱的面积-而非高度-反映的。\n",
    "\n",
    "累积频数图：可以方便地显示某个特定值以内的频数之和，通常画作折线图。"
   ]
  },
  {
   "cell_type": "code",
   "execution_count": null,
   "metadata": {
    "collapsed": true
   },
   "outputs": [],
   "source": []
  }
 ],
 "metadata": {
  "kernelspec": {
   "display_name": "Python [Root]",
   "language": "python",
   "name": "Python [Root]"
  },
  "language_info": {
   "codemirror_mode": {
    "name": "ipython",
    "version": 3
   },
   "file_extension": ".py",
   "mimetype": "text/x-python",
   "name": "python",
   "nbconvert_exporter": "python",
   "pygments_lexer": "ipython3",
   "version": "3.5.2"
  }
 },
 "nbformat": 4,
 "nbformat_minor": 0
}
