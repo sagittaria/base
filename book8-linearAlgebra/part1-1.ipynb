{
 "cells": [
  {
   "cell_type": "markdown",
   "metadata": {},
   "source": [
    "part1覆盖前两章，记陌生的知识点，熟悉的就略。\n",
    "### ch1 vector\n",
    "- 线性组合$c\\textbf{x}+d\\textbf{y}$; 长度$\\vert\\vert\\textbf{v}\\vert\\vert=\\sqrt{\\textbf{v}\\cdot\\textbf{v}}$; 点积$\\textbf{u}\\cdot\\textbf{v}=u_1v_1+u_2v_2$;\n",
    "- 单位向量$\\textbf{u}=\\textbf{v}/\\vert\\vert\\textbf{v}\\vert\\vert$，长度为1\n",
    "- 如果$\\textbf{u}\\cdot\\textbf{v}=0$，说明$\\textbf{u},\\textbf{v}$互相垂直\n",
    "- 夹角余弦$\\cos\\theta=\\frac{\\textbf{u}\\cdot\\textbf{v}}{\\vert\\vert\\textbf{u}\\vert\\vert\\,\\vert\\vert\\textbf{v}\\vert\\vert}$"
   ]
  },
  {
   "cell_type": "markdown",
   "metadata": {},
   "source": [
    "### ch2 linear equations\n",
    "- 高斯消元\n",
    " 1. 顺利的话得到完美的上三角矩阵，有唯一解。还可能碰到后面3种情况：\n",
    " 1. 主元个数不齐（有零），消元结果有$0y=1$，没解；\n",
    " 1. 主元个数不齐（有零），消元结果有$0y=0$，无穷多解；\n",
    " 1. 主元位置上出现零，但可通过行交换来解决，再去比对前3条。\n",
    "\n",
    "\n",
    "- 使用矩阵消元\n",
    " - 依据消元矩阵中每行的元素，拿系数矩阵的各行做线性组合\n",
    "\n",
    "\n",
    "- 置换矩阵\n",
    "\n",
    "\n",
    "- 矩阵的乘法\n",
    " - 死公式\n",
    " - 口诀：左乘行，右乘列 <-->理解矩阵的乘法到底在做什么\n",
    " - 内积：1行X1列=1个数字；外积：1列X1行=1个方阵\n",
    " - 分块处理"
   ]
  },
  {
   "cell_type": "markdown",
   "metadata": {
    "collapsed": true
   },
   "source": [
    "- 逆矩阵\n",
    " - if and only if消元正好得到n个主元，逆矩阵$\\textbf{A}^{-1}$才存在\n",
    " - 逆矩阵唯一\n",
    " - 如果$\\textbf{A}$可逆，$\\textbf{Ax}=\\textbf{b}$存在唯一解$\\textbf{x}=\\textbf{A}^{-1}\\textbf{b}$\n",
    " - 如果存在非零向量$\\textbf{x}$能满足$\\textbf{Ax}=\\textbf{0}$，则$\\textbf{A}^{-1}$不存在（因为没有‘消元矩阵’能把右边的$\\textbf{0}$还原成非零的$\\textbf{x}$）；如果可逆，那么该方程只有零解$\\textbf{x}=\\textbf{0}$\n",
    " - 行列式不为零，矩阵可逆（求逆公式中会用到行列式的值作为分母）\n",
    " - 只有主对角线上元素不为零的矩阵，其逆矩阵就是把各个元素换成原来的倒数（容易理解吧...）\n",
    " \n",
    "\n",
    "- 矩阵的乘积的逆：倒序，即$\\left(\\textbf{AB}\\right)^{-1}=\\textbf{B}^{-1}\\textbf{A}^{-1}$，$\\left(\\textbf{ABC}\\right)^{-1}=\\textbf{C}^{-1}\\textbf{B}^{-1}\\textbf{A}^{-1}$\n",
    "\n",
    "\n",
    "- 用高斯消元法求逆矩阵\n",
    " - 原理：$\\left[\\textbf{A}\\;\\textbf{I}\\right]\\textbf{A}^{-1}=\\left[\\textbf{A}\\textbf{A}^{-1}\\;\\textbf{I}\\textbf{A}^{-1}\\right]=\\left[\\textbf{I}\\;\\textbf{A}^{-1}\\right]$\n",
    " - step1.右边并上一个单位阵\n",
    " - step2.消元，把左边的A变成U\n",
    " - step3.通过行加减，把主元上方都处理成0，即左边只剩主对角线元素不为零\n",
    " - step4.各行除主元，把左边变成单位阵，完成时右边就是$\\textbf{A}^{-1}$"
   ]
  },
  {
   "cell_type": "code",
   "execution_count": null,
   "metadata": {
    "collapsed": true
   },
   "outputs": [],
   "source": []
  }
 ],
 "metadata": {
  "kernelspec": {
   "display_name": "Python 3",
   "language": "python",
   "name": "python3"
  },
  "language_info": {
   "codemirror_mode": {
    "name": "ipython",
    "version": 3
   },
   "file_extension": ".py",
   "mimetype": "text/x-python",
   "name": "python",
   "nbconvert_exporter": "python",
   "pygments_lexer": "ipython3",
   "version": "3.6.1"
  }
 },
 "nbformat": 4,
 "nbformat_minor": 2
}
