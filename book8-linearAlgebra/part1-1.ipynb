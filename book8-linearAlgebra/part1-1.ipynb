{
 "cells": [
  {
   "cell_type": "markdown",
   "metadata": {},
   "source": [
    "part1覆盖前两章，记陌生的知识点，熟悉的就略。\n",
    "### ch1 vector\n",
    "- 线性组合$c\\textbf{x}+d\\textbf{y}$; 长度$\\vert\\vert\\textbf{v}\\vert\\vert=\\sqrt{\\textbf{v}\\cdot\\textbf{v}}$; 点积$\\textbf{u}\\cdot\\textbf{v}=u_1v_1+u_2v_2$;\n",
    "- 单位向量$\\textbf{u}=\\textbf{v}/\\vert\\vert\\textbf{v}\\vert\\vert$，长度为1\n",
    "- 如果$\\textbf{u}\\cdot\\textbf{v}=0$，说明$\\textbf{u},\\textbf{v}$互相垂直\n",
    "- 夹角余弦$\\cos\\theta=\\frac{\\textbf{u}\\cdot\\textbf{v}}{\\vert\\vert\\textbf{u}\\vert\\vert\\,\\vert\\vert\\textbf{v}\\vert\\vert}$"
   ]
  },
  {
   "cell_type": "markdown",
   "metadata": {},
   "source": [
    "### ch2 linear equations\n",
    "- 高斯消元\n",
    " 1. 顺利的话得到完美的上三角矩阵，有唯一解。还可能碰到后面3种情况：\n",
    " 1. 主元个数不齐（有零），消元结果有$0y=1$，没解；\n",
    " 1. 主元个数不齐（有零），消元结果有$0y=0$，无穷多解；\n",
    " 1. 主元位置上出现零，但可通过行交换来解决，再去比对前3条。\n",
    "\n",
    "\n",
    "- 使用矩阵消元\n",
    " - 依据消元矩阵中每行的元素，拿系数矩阵的各行做线性组合\n",
    "\n",
    "\n",
    "- 置换矩阵\n",
    "\n",
    "\n",
    "- 矩阵的乘法\n",
    " - 死公式\n",
    " - 口诀：左乘行，右乘列 <-->理解矩阵的乘法到底在做什么\n",
    " - 内积：1行X1列=1个数字；外积：1列X1行=1个方阵\n",
    " - 分块处理\n",
    "\n",
    "\n",
    "- 逆矩阵"
   ]
  },
  {
   "cell_type": "code",
   "execution_count": null,
   "metadata": {
    "collapsed": true
   },
   "outputs": [],
   "source": []
  }
 ],
 "metadata": {
  "kernelspec": {
   "display_name": "Python 3",
   "language": "python",
   "name": "python3"
  },
  "language_info": {
   "codemirror_mode": {
    "name": "ipython",
    "version": 3
   },
   "file_extension": ".py",
   "mimetype": "text/x-python",
   "name": "python",
   "nbconvert_exporter": "python",
   "pygments_lexer": "ipython3",
   "version": "3.6.1"
  }
 },
 "nbformat": 4,
 "nbformat_minor": 2
}
