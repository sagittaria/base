{
 "cells": [
  {
   "cell_type": "markdown",
   "metadata": {},
   "source": [
    "如果你是用Windows系统玩的，需要做一些额外的事，最终形成的路线：\n",
    "1. 从官网下载spark-2.2.0-bin-hadoop2.7.tgz\n",
    " - 解压在d:\\bigData\\spark\n",
    "2. 在d:\\bigData\\中新建文件夹，命名hadoop_fake\n",
    " - 里面放winutils.exe和hadoop.dll两个文件<-跟版本和平台有关，不匹配的可能无用\n",
    "3. 做环境变量\n",
    " - HADOOP_HOME=D:\\BigData\\hadoop_fake(不用真装Hadoop，只要有那两文件位于%HADOOP_HOME%\\bin下就行)\n",
    " - SPARK_HOME=D:\\BigData\\spark\n",
    " - PYSPARK_DRIVER_PYTHON=jupyter\n",
    " - PYSPARK_DRIVER_PYTHON_OPTS=notebook\n",
    " - 在path里追加%SPARK_HOME%\\bin\n",
    " 然后在命令行里执行pyspark，就能验证（敲入sc按回车）了："
   ]
  },
  {
   "cell_type": "code",
   "execution_count": 8,
   "metadata": {
    "collapsed": false
   },
   "outputs": [
    {
     "data": {
      "text/html": [
       "\n",
       "        <div>\n",
       "            <p><b>SparkContext</b></p>\n",
       "\n",
       "            <p><a href=\"http://192.168.1.104:4040\">Spark UI</a></p>\n",
       "\n",
       "            <dl>\n",
       "              <dt>Version</dt>\n",
       "                <dd><code>v2.2.0</code></dd>\n",
       "              <dt>Master</dt>\n",
       "                <dd><code>local[*]</code></dd>\n",
       "              <dt>AppName</dt>\n",
       "                <dd><code>PySparkShell</code></dd>\n",
       "            </dl>\n",
       "        </div>\n",
       "        "
      ],
      "text/plain": [
       "<SparkContext master=local[*] appName=PySparkShell>"
      ]
     },
     "execution_count": 8,
     "metadata": {},
     "output_type": "execute_result"
    }
   ],
   "source": [
    "sc"
   ]
  },
  {
   "cell_type": "code",
   "execution_count": 7,
   "metadata": {
    "collapsed": false
   },
   "outputs": [
    {
     "name": "stdout",
     "output_type": "stream",
     "text": [
      "20177\n"
     ]
    }
   ],
   "source": [
    "import pyspark\n",
    "if not 'sc' in globals():\n",
    "    sc = pyspark.SparkContext()\n",
    "\n",
    "lines = sc.textFile(\"ch10-bigData-materials/Spark File Words.ipynb\")\n",
    "lineLengths = lines.map(lambda s: len(s))\n",
    "totalLength = lineLengths.reduce(lambda a, b: a + b)\n",
    "print(totalLength)"
   ]
  },
  {
   "cell_type": "code",
   "execution_count": null,
   "metadata": {
    "collapsed": true
   },
   "outputs": [],
   "source": []
  }
 ],
 "metadata": {
  "anaconda-cloud": {},
  "kernelspec": {
   "display_name": "Python [Root]",
   "language": "python",
   "name": "Python [Root]"
  },
  "language_info": {
   "codemirror_mode": {
    "name": "ipython",
    "version": 3
   },
   "file_extension": ".py",
   "mimetype": "text/x-python",
   "name": "python",
   "nbconvert_exporter": "python",
   "pygments_lexer": "ipython3",
   "version": "3.5.2"
  }
 },
 "nbformat": 4,
 "nbformat_minor": 0
}
