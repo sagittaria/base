{
 "cells": [
  {
   "cell_type": "code",
   "execution_count": 10,
   "metadata": {
    "collapsed": false
   },
   "outputs": [
    {
     "name": "stdout",
     "output_type": "stream",
     "text": [
      "Throw two dice 1000 times\n",
      "Mean of 6.996\n",
      "Median of 7.0\n",
      "Std Dev 2.3233561931\n"
     ]
    }
   ],
   "source": [
    "import pylab\n",
    "import random\n",
    "\n",
    "random.seed(113)\n",
    "\n",
    "samples = 1000\n",
    "\n",
    "dice = []\n",
    "for i in range(samples):\n",
    "    total = random.randint(1,6) + random.randint(1,6)\n",
    "    dice.append(total)\n",
    "\n",
    "print(\"Throw two dice \"+str(samples)+\" times\")\n",
    "print(\"Mean of \"+str(pylab.mean(dice)))\n",
    "print(\"Median of \"+str(pylab.median(dice)))\n",
    "print(\"Std Dev \"+str(pylab.std(dice)))\n",
    "\n",
    "pylab.hist(dice, bins= pylab.arange(1.5,12.6,1.0))\n",
    "pylab.xlabel('Pips')\n",
    "pylab.ylabel('Count')\n",
    "pylab.show()"
   ]
  },
  {
   "cell_type": "code",
   "execution_count": 16,
   "metadata": {
    "collapsed": false
   },
   "outputs": [
    {
     "name": "stdout",
     "output_type": "stream",
     "text": [
      "Throw one dice 1000 times\n",
      "Mean of 3.519\n"
     ]
    }
   ],
   "source": [
    "#试下1颗骰子的mean是不是接近(1+2+3+4+5+6)/6=3.5\n",
    "random.seed()\n",
    "\n",
    "samples = 1000\n",
    "\n",
    "dice = []\n",
    "for i in range(samples):\n",
    "    total = random.randint(1,6)\n",
    "    dice.append(total)\n",
    "\n",
    "print(\"Throw one dice \"+str(samples)+\" times\")\n",
    "print(\"Mean of \"+str(pylab.mean(dice)))\n",
    "\n",
    "pylab.hist(dice, bins= pylab.arange(0.5,6.6,1.0))\n",
    "pylab.xlabel('Pips')\n",
    "pylab.ylabel('Count')\n",
    "pylab.show()"
   ]
  },
  {
   "cell_type": "code",
   "execution_count": null,
   "metadata": {
    "collapsed": true
   },
   "outputs": [],
   "source": []
  }
 ],
 "metadata": {
  "anaconda-cloud": {},
  "kernelspec": {
   "display_name": "Python [Root]",
   "language": "python",
   "name": "Python [Root]"
  },
  "language_info": {
   "codemirror_mode": {
    "name": "ipython",
    "version": 3
   },
   "file_extension": ".py",
   "mimetype": "text/x-python",
   "name": "python",
   "nbconvert_exporter": "python",
   "pygments_lexer": "ipython3",
   "version": "3.5.2"
  }
 },
 "nbformat": 4,
 "nbformat_minor": 0
}
