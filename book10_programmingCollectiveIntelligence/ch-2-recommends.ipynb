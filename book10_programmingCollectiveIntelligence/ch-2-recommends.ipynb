{
 "cells": [
  {
   "cell_type": "markdown",
   "metadata": {},
   "source": [
    "### 1. 欧氏距离"
   ]
  },
  {
   "cell_type": "code",
   "execution_count": 1,
   "metadata": {
    "collapsed": false
   },
   "outputs": [
    {
     "data": {
      "text/plain": [
       "4.5"
      ]
     },
     "execution_count": 1,
     "metadata": {},
     "output_type": "execute_result"
    }
   ],
   "source": [
    "#搜集偏好\n",
    "critics={'Lisa Rose': {'Lady in the Water': 2.5, 'Snakes on a Plane': 3.5,\n",
    "                'Just My Luck': 3.0, 'Superman Returns': 3.5, 'You, Me and Dupree': 2.5,\n",
    "                'The Night Listener': 3.0},\n",
    "        'Gene Seymour': {'Lady in the Water': 3.0, 'Snakes on a Plane': 3.5,\n",
    "                'Just My Luck': 1.5, 'Superman Returns': 5.0, 'The Night Listener': 3.0,\n",
    "                'You, Me and Dupree': 3.5},\n",
    "        'Michael Phillips': {'Lady in the Water': 2.5, 'Snakes on a Plane': 3.0,\n",
    "                'Superman Returns': 3.5, 'The Night Listener': 4.0},\n",
    "        'Claudia Puig': {'Snakes on a Plane': 3.5, 'Just My Luck': 3.0,\n",
    "                'The Night Listener': 4.5, 'Superman Returns': 4.0,\n",
    "                'You, Me and Dupree': 2.5},\n",
    "        'Mick LaSalle': {'Lady in the Water': 3.0, 'Snakes on a Plane': 4.0,\n",
    "                'Just My Luck': 2.0, 'Superman Returns': 3.0, 'The Night Listener': 3.0,\n",
    "                'You, Me and Dupree': 2.0},\n",
    "        'Jack Matthews': {'Lady in the Water': 3.0, 'Snakes on a Plane': 4.0,\n",
    "                'The Night Listener': 3.0, 'Superman Returns': 5.0, 'You, Me and Dupree': 3.5},\n",
    "        'Toby': {'Snakes on a Plane':4.5,'You, Me and Dupree':1.0,'Superman Returns':4.0}}\n",
    "\n",
    "critics['Toby']['Snakes on a Plane'] #Toby对Snakes on a Plane的评分"
   ]
  },
  {
   "cell_type": "code",
   "execution_count": 2,
   "metadata": {
    "collapsed": true
   },
   "outputs": [],
   "source": [
    "from math import sqrt\n",
    "# 用“+1后的倒数”来作为相似度指标\n",
    "def sim_distance(prefs,person1,person2):\n",
    "    si={} # Get the list of shared_items，就是两个人都打了分的电影\n",
    "    for item in prefs[person1]:\n",
    "        if item in prefs[person2]:\n",
    "            si[item]=1\n",
    "    # if they have no ratings in common, return 0\n",
    "    if len(si)==0: return 0 #就当是，没有一部电影是两人都看过的\n",
    "    # Add up the squares of all the differences\n",
    "    sum_of_squares=sum([pow(prefs[person1][item]-prefs[person2][item],2)\n",
    "                        for item in prefs[person1] if item in prefs[person2]])\n",
    "    return 1/(1+sum_of_squares) #避免分母为零；返回值∈(0,1]，越大表明越接近"
   ]
  },
  {
   "cell_type": "code",
   "execution_count": 3,
   "metadata": {
    "collapsed": false
   },
   "outputs": [
    {
     "data": {
      "text/plain": [
       "0.14814814814814814"
      ]
     },
     "execution_count": 3,
     "metadata": {},
     "output_type": "execute_result"
    }
   ],
   "source": [
    "sim_distance(critics,'Lisa Rose','Gene Seymour')"
   ]
  },
  {
   "cell_type": "markdown",
   "metadata": {},
   "source": [
    "### 2. 皮尔逊相关系数\n",
    "数据不是很规范（比如某人给出的评分总是相对于平均值大很多）的时候，用皮尔逊相关系数来判断相似度更好。"
   ]
  },
  {
   "cell_type": "code",
   "execution_count": 4,
   "metadata": {
    "collapsed": true
   },
   "outputs": [],
   "source": [
    "# Returns the Pearson correlation coefficient for p1 and p2\n",
    "def sim_pearson(prefs,p1,p2):        \n",
    "        si={}# 找大家都评过的电影\n",
    "        for item in prefs[p1]:\n",
    "                if item in prefs[p2]: si[item]=1\n",
    "\n",
    "        n=len(si)# Find the number of elements        \n",
    "        if n==0: return 0 # if they are no ratings in common, return 0\n",
    "\n",
    "        # Add up all the preferences 求评分之和\n",
    "        sum1=sum([prefs[p1][it] for it in si])\n",
    "        sum2=sum([prefs[p2][it] for it in si])\n",
    "\n",
    "        # Sum up the squares 平方和\n",
    "        sum1Sq=sum([pow(prefs[p1][it],2) for it in si])\n",
    "        sum2Sq=sum([pow(prefs[p2][it],2) for it in si])\n",
    "\n",
    "        # Sum up the products 乘积和\n",
    "        pSum=sum([prefs[p1][it]*prefs[p2][it] for it in si])\n",
    "\n",
    "        # Calculate Pearson score 皮尔逊相关度的公式\n",
    "        num=pSum-(sum1*sum2/n)\n",
    "        den=sqrt((sum1Sq-pow(sum1,2)/n)*(sum2Sq-pow(sum2,2)/n))\n",
    "        if den==0: return 0\n",
    "        \n",
    "        r=num/den\n",
    "        return r"
   ]
  },
  {
   "cell_type": "code",
   "execution_count": 5,
   "metadata": {
    "collapsed": false
   },
   "outputs": [
    {
     "data": {
      "text/plain": [
       "0.39605901719066977"
      ]
     },
     "execution_count": 5,
     "metadata": {},
     "output_type": "execute_result"
    }
   ],
   "source": [
    "sim_pearson(critics,'Lisa Rose','Gene Seymour')"
   ]
  },
  {
   "cell_type": "markdown",
   "metadata": {},
   "source": [
    "### 3.找出具有相似品味的人"
   ]
  },
  {
   "cell_type": "code",
   "execution_count": 6,
   "metadata": {
    "collapsed": false
   },
   "outputs": [
    {
     "data": {
      "text/plain": [
       "True"
      ]
     },
     "execution_count": 6,
     "metadata": {},
     "output_type": "execute_result"
    }
   ],
   "source": [
    "# 找出最接近的n个\n",
    "def topMatches(prefs,person,n=5,similarity=sim_pearson):\n",
    "    scores=[(similarity(prefs,person,other),other)\n",
    "            for other in prefs if other!=person] #见下文\n",
    "    scores.sort( )\n",
    "    scores.reverse( )\n",
    "    return scores[0:n] #排序后返回前n个\n",
    "\n",
    "tmp_d={'a':1,'b':2};'a' in tmp_d #对于字典，可以用in检查\"某个键是否存在\""
   ]
  },
  {
   "cell_type": "code",
   "execution_count": 7,
   "metadata": {
    "collapsed": false
   },
   "outputs": [
    {
     "data": {
      "text/plain": [
       "[(0.9912407071619299, 'Lisa Rose'),\n",
       " (0.9244734516419049, 'Mick LaSalle'),\n",
       " (0.8934051474415647, 'Claudia Puig')]"
      ]
     },
     "execution_count": 7,
     "metadata": {},
     "output_type": "execute_result"
    }
   ],
   "source": [
    "topMatches(critics,'Toby',n=3) #与Toby相似度最高的3个（默认用皮尔逊相关系数评价）"
   ]
  },
  {
   "cell_type": "markdown",
   "metadata": {},
   "source": [
    "### 4. 根据打分推荐影片"
   ]
  },
  {
   "cell_type": "code",
   "execution_count": 8,
   "metadata": {
    "collapsed": false
   },
   "outputs": [],
   "source": [
    "def getRecommendations(prefs,person,similarity=sim_pearson):\n",
    "    totals={}\n",
    "    simSums={}\n",
    "    for other in prefs:\n",
    "        if other==person: continue #不用和自己做比较\n",
    "        sim=similarity(prefs,person,other) #计算相似度（后面用作权重）\n",
    "        \n",
    "        if sim<=0: continue # 忽略不想关或者负相关的人\n",
    "        for item in prefs[other]:\n",
    "            # other看过，本person没看过的\n",
    "            if item not in prefs[person] or prefs[person][item]==0: #为什么这里要有or==0？\n",
    "                totals.setdefault(item,0)\n",
    "                totals[item]+=prefs[other][item]*sim #权重乘分数，求和\n",
    "                simSums.setdefault(item,0)\n",
    "                simSums[item]+=sim #权重之和\n",
    "                \n",
    "    rankings=[(total/simSums[item],item) for item,total in totals.items( )] #(估分,片名)\n",
    "    \n",
    "    # Return the sorted list\n",
    "    rankings.sort( )\n",
    "    rankings.reverse( )\n",
    "    return rankings"
   ]
  },
  {
   "cell_type": "code",
   "execution_count": 9,
   "metadata": {
    "collapsed": false
   },
   "outputs": [
    {
     "data": {
      "text/plain": [
       "[(3.3477895267131017, 'The Night Listener'),\n",
       " (2.8325499182641614, 'Lady in the Water'),\n",
       " (2.530980703765565, 'Just My Luck')]"
      ]
     },
     "execution_count": 9,
     "metadata": {},
     "output_type": "execute_result"
    }
   ],
   "source": [
    "getRecommendations(critics,'Toby')"
   ]
  },
  {
   "cell_type": "code",
   "execution_count": 10,
   "metadata": {
    "collapsed": false
   },
   "outputs": [
    {
     "data": {
      "text/plain": [
       "[(3.5002478401415877, 'The Night Listener'),\n",
       " (2.7561242939959363, 'Lady in the Water'),\n",
       " (2.461988486074374, 'Just My Luck')]"
      ]
     },
     "execution_count": 10,
     "metadata": {},
     "output_type": "execute_result"
    }
   ],
   "source": [
    "getRecommendations(critics,'Toby',similarity=sim_distance) #结果可见这儿不管用哪种，估分是差不多的"
   ]
  },
  {
   "cell_type": "markdown",
   "metadata": {},
   "source": [
    "### 5. 找类似的影片\n",
    "和计算人与人之间的相似度是一样的——只要把原来的输入中的“人”和“影片”对调位子"
   ]
  },
  {
   "cell_type": "code",
   "execution_count": 11,
   "metadata": {
    "collapsed": false
   },
   "outputs": [
    {
     "data": {
      "text/plain": [
       "{'Just My Luck': {'Claudia Puig': 3.0,\n",
       "  'Gene Seymour': 1.5,\n",
       "  'Lisa Rose': 3.0,\n",
       "  'Mick LaSalle': 2.0},\n",
       " 'Lady in the Water': {'Gene Seymour': 3.0,\n",
       "  'Jack Matthews': 3.0,\n",
       "  'Lisa Rose': 2.5,\n",
       "  'Michael Phillips': 2.5,\n",
       "  'Mick LaSalle': 3.0},\n",
       " 'Snakes on a Plane': {'Claudia Puig': 3.5,\n",
       "  'Gene Seymour': 3.5,\n",
       "  'Jack Matthews': 4.0,\n",
       "  'Lisa Rose': 3.5,\n",
       "  'Michael Phillips': 3.0,\n",
       "  'Mick LaSalle': 4.0,\n",
       "  'Toby': 4.5},\n",
       " 'Superman Returns': {'Claudia Puig': 4.0,\n",
       "  'Gene Seymour': 5.0,\n",
       "  'Jack Matthews': 5.0,\n",
       "  'Lisa Rose': 3.5,\n",
       "  'Michael Phillips': 3.5,\n",
       "  'Mick LaSalle': 3.0,\n",
       "  'Toby': 4.0},\n",
       " 'The Night Listener': {'Claudia Puig': 4.5,\n",
       "  'Gene Seymour': 3.0,\n",
       "  'Jack Matthews': 3.0,\n",
       "  'Lisa Rose': 3.0,\n",
       "  'Michael Phillips': 4.0,\n",
       "  'Mick LaSalle': 3.0},\n",
       " 'You, Me and Dupree': {'Claudia Puig': 2.5,\n",
       "  'Gene Seymour': 3.5,\n",
       "  'Jack Matthews': 3.5,\n",
       "  'Lisa Rose': 2.5,\n",
       "  'Mick LaSalle': 2.0,\n",
       "  'Toby': 1.0}}"
      ]
     },
     "execution_count": 11,
     "metadata": {},
     "output_type": "execute_result"
    }
   ],
   "source": [
    "def transformPrefs(prefs):\n",
    "    result={}\n",
    "    for person in prefs:\n",
    "        for item in prefs[person]:\n",
    "            result.setdefault(item,{})\n",
    "            # Flip item and person\n",
    "            result[item][person]=prefs[person][item]\n",
    "    return result\n",
    "\n",
    "movies=transformPrefs(critics)\n",
    "movies #键为片名，值为各影评人的打分"
   ]
  },
  {
   "cell_type": "code",
   "execution_count": 12,
   "metadata": {
    "collapsed": false
   },
   "outputs": [
    {
     "data": {
      "text/plain": [
       "[(0.6579516949597695, 'You, Me and Dupree'),\n",
       " (0.4879500364742689, 'Lady in the Water'),\n",
       " (0.11180339887498941, 'Snakes on a Plane'),\n",
       " (-0.1798471947990544, 'The Night Listener'),\n",
       " (-0.42289003161103106, 'Just My Luck')]"
      ]
     },
     "execution_count": 12,
     "metadata": {},
     "output_type": "execute_result"
    }
   ],
   "source": [
    "#可直接用原先的topMatches\n",
    "topMatches(movies,'Superman Returns')\n",
    "#有负数说明“负相关”，即如倾向于喜欢“Superman Returns”的人一般不喜欢“The Night Listener”"
   ]
  },
  {
   "cell_type": "markdown",
   "metadata": {
    "collapsed": true
   },
   "source": [
    "### 6. 有可能喜欢某部影片的人"
   ]
  },
  {
   "cell_type": "code",
   "execution_count": 13,
   "metadata": {
    "collapsed": false
   },
   "outputs": [
    {
     "data": {
      "text/plain": [
       "[(4.0, 'Michael Phillips'), (3.0, 'Jack Matthews')]"
      ]
     },
     "execution_count": 13,
     "metadata": {},
     "output_type": "execute_result"
    }
   ],
   "source": [
    "getRecommendations(movies,'Just My Luck') #按照加权平均评分的高低"
   ]
  },
  {
   "cell_type": "markdown",
   "metadata": {},
   "source": [
    "### 7.基于物品的过滤\n",
    "以上是基于用户的协作型过滤，使用每一位用户的全部评分来构造数据集（将一个用户和其他所有用户比较）。在数据量大的情况下，基于物品的协作型过滤更高，而且这种方式可以将大量计算任务预先完成。\n",
    "\n",
    "总体思路：1.为每件物品计算其相似物品（可以预先完成）；2.向某人进行推荐时，查看他评过分的物品，选出排位靠前者，用以构造一个加权列表 which 包含着与“靠前者”相似的物品。"
   ]
  },
  {
   "cell_type": "code",
   "execution_count": 14,
   "metadata": {
    "collapsed": false
   },
   "outputs": [],
   "source": [
    "def calculateSimilarItems(prefs,n=10):\n",
    "    result={} #找出最相似的物品    \n",
    "    itemPrefs=transformPrefs(prefs) #转成：键为片名，值为各影评人的打分\n",
    "    c=0\n",
    "    for item in itemPrefs:\n",
    "        c+=1\n",
    "        if c%100==0: print((\"%d / %d\") % (c,len(itemPrefs))) #用来显示下当前处理进度(针对数据量很大的情况)\n",
    "        scores=topMatches(itemPrefs,item,n=n,similarity=sim_distance)\n",
    "        result[item]=scores\n",
    "    return result\n",
    "\n",
    "itemsim=calculateSimilarItems(critics) #找出与每部电影最相似的其他(最多)10部"
   ]
  },
  {
   "cell_type": "code",
   "execution_count": 15,
   "metadata": {
    "collapsed": true
   },
   "outputs": [],
   "source": [
    "def getRecommendedItems(prefs,itemMatch,user):\n",
    "    userRatings=prefs[user]\n",
    "    scores={}\n",
    "    totalSim={}\n",
    "    \n",
    "    for (item,rating) in userRatings.items( ): #这个人打过分的物品(影片)和评分\n",
    "        for (similarity,item2) in itemMatch[item]: #与打过分的物品相似的物品\n",
    "            if item2 in userRatings: continue #如果这个人已经打过分了（已经看过这部电影了），处理另一个相似物品\n",
    "            \n",
    "            scores.setdefault(item2,0)\n",
    "            scores[item2]+=similarity*rating #加权求和\n",
    "            \n",
    "            totalSim.setdefault(item2,0)\n",
    "            totalSim[item2]+=similarity #权重(即相似度)之和\n",
    "            \n",
    "    rankings=[(score/totalSim[item],item) for item,score in scores.items( )]#每个相似物品的评分\n",
    "\n",
    "    rankings.sort( )\n",
    "    rankings.reverse( )\n",
    "    return rankings #返回逆序列表（从高到低）"
   ]
  },
  {
   "cell_type": "code",
   "execution_count": 16,
   "metadata": {
    "collapsed": false
   },
   "outputs": [
    {
     "data": {
      "text/plain": [
       "[(3.182634730538922, 'The Night Listener'),\n",
       " (2.5983318700614575, 'Just My Luck'),\n",
       " (2.4730878186968837, 'Lady in the Water')]"
      ]
     },
     "execution_count": 16,
     "metadata": {},
     "output_type": "execute_result"
    }
   ],
   "source": [
    "getRecommendedItems(critics, itemsim, 'Toby')"
   ]
  },
  {
   "cell_type": "code",
   "execution_count": null,
   "metadata": {
    "collapsed": true
   },
   "outputs": [],
   "source": []
  }
 ],
 "metadata": {
  "anaconda-cloud": {},
  "kernelspec": {
   "display_name": "Python [Root]",
   "language": "python",
   "name": "Python [Root]"
  },
  "language_info": {
   "codemirror_mode": {
    "name": "ipython",
    "version": 3
   },
   "file_extension": ".py",
   "mimetype": "text/x-python",
   "name": "python",
   "nbconvert_exporter": "python",
   "pygments_lexer": "ipython3",
   "version": "3.5.2"
  }
 },
 "nbformat": 4,
 "nbformat_minor": 0
}
