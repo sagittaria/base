{
 "cells": [
  {
   "cell_type": "markdown",
   "metadata": {},
   "source": [
    "## 决策树\n",
    "- 概念\n",
    " - 信息：$l\\left(x_i\\right)=-\\log_2p\\left(x_i\\right)$\n",
    " - 熵：$H=-\\sum_{i=1}^np\\left(x_i\\right)\\log_2p\\left(x_i\\right), 其中n是分出来的组数$\n",
    " - 熵是信息的期望，描述一种混杂程度。\n",
    " - 熵越小说明“纯度”越高，如果为零就说明“全都是同一类的”了，而熵越大说明混杂的数据越多。\n",
    " - 分类前后熵的变化，就是信息增益。\n",
    "\n",
    "- 决策树分类原理：就是选择一个最佳特征（which能使信息增益最大），用以递归地对原始数据作分割。"
   ]
  },
  {
   "cell_type": "markdown",
   "metadata": {},
   "source": [
    "先熟悉下matplotlib注解的基本用法，后面要用来画出决策树的图形"
   ]
  },
  {
   "cell_type": "code",
   "execution_count": 1,
   "metadata": {
    "collapsed": false
   },
   "outputs": [
    {
     "data": {
      "image/png": "[encoded data removed]",
      "text/plain": [
       "<matplotlib.figure.Figure at 0x2174e5cee80>"
      ]
     },
     "metadata": {},
     "output_type": "display_data"
    }
   ],
   "source": [
    "import matplotlib.pyplot as plt\n",
    "%matplotlib inline\n",
    "\n",
    "decisionNode = dict(boxstyle=\"sawtooth\", fc=\"0.8\")\n",
    "leafNode = dict(boxstyle=\"round4\", fc=\"0.8\")\n",
    "arrow_args = dict(arrowstyle=\"<-\")\n",
    "#node类型用于设定注解文本的边框，arrow_args指明了箭头方向，朝左表示parentPt指向centerPt\n",
    "\n",
    "#centerPt是注解的中心坐标，parentPt是线段另一端（常规意义上的“被注解处”）的坐标\n",
    "def plotNode(nodeTxt, centerPt, parentPt, nodeType):\n",
    "    createPlot.ax1.annotate(nodeTxt, xy=parentPt,\n",
    "    xycoords='axes fraction',\n",
    "    xytext=centerPt, textcoords='axes fraction',\n",
    "    va=\"center\", ha=\"center\", bbox=nodeType, arrowprops=arrow_args)\n",
    "\n",
    "def createPlot():\n",
    "    fig = plt.figure(1, facecolor='white')\n",
    "    fig.clf() #清空当前figure\n",
    "    createPlot.ax1 = plt.subplot(111, frameon=False)\n",
    "    plotNode('a decision node', (0.5, 0.1), (0.1, 0.5), decisionNode)\n",
    "    plotNode('a leaf node', (0.8, 0.1), (0.3, 0.8), leafNode)\n",
    "    plt.show()\n",
    "\n",
    "createPlot()"
   ]
  },
  {
   "cell_type": "markdown",
   "metadata": {},
   "source": [
    "# 从原始数据画出决策树的过程"
   ]
  },
  {
   "cell_type": "code",
   "execution_count": 2,
   "metadata": {
    "collapsed": true
   },
   "outputs": [],
   "source": [
    "#原始数据\n",
    "from math import log\n",
    "import operator\n",
    "\n",
    "#创建数据集（书上表3-1）\n",
    "myDat = [[1, 1, 'yes'],\n",
    "         [1, 1, 'yes'],\n",
    "         [1, 0, 'no' ],\n",
    "         [0, 1, 'no' ],\n",
    "         [0, 1, 'no' ]]\n",
    "featName = ['no surfacing','flippers'] #后面画图时才用到"
   ]
  },
  {
   "cell_type": "markdown",
   "metadata": {},
   "source": [
    "#### 为什么要选用最后一列（label）来计算熵？\n",
    "因为我们只关心最后一列，目标就是区分出鱼类和非鱼类。"
   ]
  },
  {
   "cell_type": "code",
   "execution_count": 3,
   "metadata": {
    "collapsed": false
   },
   "outputs": [],
   "source": [
    "#套公式计算熵\n",
    "def calcShannonEnt(dataSet):\n",
    "    numEntries = len(dataSet) #实例个数\n",
    "    labelCounts = {}\n",
    "    for featVec in dataSet: #对于每个实例\n",
    "        currentLabel = featVec[-1] #其最后一列是label\n",
    "        if currentLabel not in labelCounts.keys():\n",
    "            labelCounts[currentLabel] = 0 #如果没出现过，初始化为0\n",
    "        labelCounts[currentLabel] += 1 #计数增1\n",
    "    shannonEnt = 0.0\n",
    "    for key in labelCounts: #对于每种label\n",
    "        prob = float(labelCounts[key])/numEntries #计算概率（出现频率）\n",
    "        shannonEnt -= prob * log(prob,2) #套用计算H的公式\n",
    "    return shannonEnt"
   ]
  },
  {
   "cell_type": "markdown",
   "metadata": {},
   "source": [
    "数据分类：按照某一列（axis）上的值是否等于value来分割，返回true的一组"
   ]
  },
  {
   "cell_type": "code",
   "execution_count": 4,
   "metadata": {
    "collapsed": true
   },
   "outputs": [],
   "source": [
    "def splitDataSet(dataSet, axis, value):\n",
    "    retDataSet = []\n",
    "    for featVec in dataSet:\n",
    "        if featVec[axis] == value:\n",
    "            reducedFeatVec = featVec[:axis]\n",
    "            reducedFeatVec.extend(featVec[axis+1:]) #于是第axis列的值featVec[axis]被剔除了\n",
    "            retDataSet.append(reducedFeatVec)\n",
    "    return retDataSet"
   ]
  },
  {
   "cell_type": "markdown",
   "metadata": {},
   "source": [
    "- 比如说有三个样本tempDat=[1, 1, 'yes'], [1, 0, 'no'], [0, 1, 'no']\n",
    "- 参数为(tempDat, 0, 1)，表示我要求抽取第0列值为1的myDat的子集，所谓的reduce是指去除子集中原来的第0列\n",
    "- 所以返回的retDataSet结果应当为[1, 'yes'], [0, 'no']"
   ]
  },
  {
   "cell_type": "markdown",
   "metadata": {},
   "source": [
    "能使划分结果信息增量最大的特征选为最佳特征"
   ]
  },
  {
   "cell_type": "code",
   "execution_count": 5,
   "metadata": {
    "collapsed": true
   },
   "outputs": [],
   "source": [
    "def chooseBestFeatureToSplit(dataSet):\n",
    "    numFeatures = len(dataSet[0]) - 1 #特征个数\n",
    "    baseEntropy = calcShannonEnt(dataSet) #原熵\n",
    "    bestInfoGain = 0.0; bestFeature = -1\n",
    "    for i in range(numFeatures): #依次处理每个特征\n",
    "        featList = [example[i] for example in dataSet] #取得原始数据中的第i列\n",
    "        uniqueVals = set(featList) #去掉其中重复值\n",
    "        newEntropy = 0.0\n",
    "        for value in uniqueVals:\n",
    "            subDataSet = splitDataSet(dataSet, i, value) \n",
    "            #尽管splitDataSet的功能【只only】取符合条件（==value）的\n",
    "            #【但是】value是会被遍历取的，所以假如分成了两组，那么两组都会被计算熵，然后乘权重求和(类似求期望的公式)\n",
    "            prob = len(subDataSet)/float(len(dataSet))\n",
    "            newEntropy += prob * calcShannonEnt(subDataSet)\n",
    "            #举例来说，原始集合A有10个元素，分成了A1和A2两个子集，A1有3个元素，A2有7个\n",
    "            #新的熵就是 3/10*Ent(A1)+7/10*Ent(A2)\n",
    "        infoGain = baseEntropy - newEntropy\n",
    "        if (infoGain > bestInfoGain):\n",
    "            bestInfoGain = infoGain\n",
    "            bestFeature = i#选出信息增益最大的特征，给出去\n",
    "    return bestFeature"
   ]
  },
  {
   "cell_type": "markdown",
   "metadata": {},
   "source": [
    "有可能特征用光了但分类还没完全分好，所以再def一个投票函数应对这种情况"
   ]
  },
  {
   "cell_type": "code",
   "execution_count": 6,
   "metadata": {
    "collapsed": true
   },
   "outputs": [],
   "source": [
    "def majorityCnt(classList): #投票\n",
    "    classCount={}\n",
    "    for vote in classList:\n",
    "        if vote not in classCount.keys(): classCount[vote] = 0\n",
    "        classCount[vote] += 1\n",
    "    #sortedClassCount = sorted(classCount.iteritems(), #这是Python2的写法\n",
    "    sortedClassCount = sorted(classCount.items(), \n",
    "                              key=operator.itemgetter(1), reverse=True)\n",
    "    return sortedClassCount[0][0]\n",
    "    #如果特征都消耗完了，但叶节点（对应着一个数据子集）中的标签还是不唯一，那么投票表决出这个叶节点分类的标签"
   ]
  },
  {
   "cell_type": "markdown",
   "metadata": {},
   "source": [
    "具体创建树结构的方法"
   ]
  },
  {
   "cell_type": "code",
   "execution_count": 7,
   "metadata": {
    "collapsed": true
   },
   "outputs": [],
   "source": [
    "def createTree(dataSet,featName):\n",
    "    classList = [example[-1] for example in dataSet] #取到所有的分类\n",
    "    if classList.count(classList[0]) == len(classList): #如果列表中第0个元素的出现次数等于列表长度\n",
    "        #也就是说classList中已经全是同类\n",
    "        return classList[0]\n",
    "    if len(dataSet[0]) == 1: #如果每个实例长度只剩1，表明特征已经全部消耗完了，每个实例都被reduce至只剩标签列\n",
    "        return majorityCnt(classList)\n",
    "    bestFeat = chooseBestFeatureToSplit(dataSet)\n",
    "    bestFeatLabel = featName[bestFeat]#最佳特征\n",
    "    myTree = {bestFeatLabel:{}}\n",
    "    del(featName[bestFeat]) #消耗掉一个特征，从labels里清掉\n",
    "    featValues = [example[bestFeat] for example in dataSet]\n",
    "    uniqueVals = set(featValues) #可以参照chooseBestFeatureToSplit理解，很相似\n",
    "    for value in uniqueVals:\n",
    "        subLabels = featName[:] #字典结构，第零个元素是树（或子树）的根节点\n",
    "        myTree[bestFeatLabel][value] = createTree(splitDataSet(dataSet, bestFeat, value),subLabels)\n",
    "    return myTree\n",
    "    \n",
    "myTree = createTree(myDat,featName)"
   ]
  },
  {
   "cell_type": "markdown",
   "metadata": {},
   "source": [
    "需要知道树的高度和叶节点个数，或者说树的大小（然后才能确定画板的大小）"
   ]
  },
  {
   "cell_type": "code",
   "execution_count": 8,
   "metadata": {
    "collapsed": true
   },
   "outputs": [],
   "source": [
    "def getNumLeafs(myTree):\n",
    "    numLeafs = 0\n",
    "    firstSides = list(myTree.keys()) \n",
    "    firstStr = firstSides[0] #相当于获取myTree的根节点，值为应该放在根标签上的文本\n",
    "    secondDict = myTree[firstStr] #myTree字典中第一个元素的“值”\n",
    "    for key in secondDict.keys(): #\n",
    "        if type(secondDict[key]).__name__=='dict': #如果仍然是嵌套的字典\n",
    "            numLeafs += getNumLeafs(secondDict[key]) #递归求子树的叶节点数\n",
    "        else: numLeafs +=1 #否则叶节点计数增1\n",
    "    return numLeafs\n",
    "\n",
    "def getTreeDepth(myTree): #参看getNumLeafs的注释\n",
    "    maxDepth = 0\n",
    "    firstSides = list(myTree.keys()) \n",
    "    firstStr = firstSides[0]\n",
    "    secondDict = myTree[firstStr]\n",
    "    for key in secondDict.keys():\n",
    "        if type(secondDict[key]).__name__=='dict':\n",
    "            thisDepth = 1 + getTreeDepth(secondDict[key])\n",
    "        else: thisDepth = 1\n",
    "        if thisDepth > maxDepth: maxDepth = thisDepth\n",
    "    return maxDepth"
   ]
  },
  {
   "cell_type": "markdown",
   "metadata": {},
   "source": [
    "看看叶节点和高度的计数结果是否正确"
   ]
  },
  {
   "cell_type": "code",
   "execution_count": 9,
   "metadata": {
    "collapsed": false
   },
   "outputs": [
    {
     "name": "stdout",
     "output_type": "stream",
     "text": [
      "4\n",
      "3\n"
     ]
    }
   ],
   "source": [
    "t0 = {'no surfacing': {0: 'no', 1: {'flippers': {0: 'no', 1: 'yes'}}}}\n",
    "t1 = {'no surfacing': {0: 'no', 1: {'flippers': {0: {'head': {0: 'no', 1: 'yes'}}, 1: 'no'}}}}\n",
    "print(getNumLeafs(t1))\n",
    "print(getTreeDepth(t1))"
   ]
  },
  {
   "cell_type": "markdown",
   "metadata": {},
   "source": [
    "大脑已经停工了，这部分画图的具体细节我暂时略过。。。"
   ]
  },
  {
   "cell_type": "code",
   "execution_count": 10,
   "metadata": {
    "collapsed": false
   },
   "outputs": [
    {
     "data": {
      "image/png": "[encoded data removed]",
      "text/plain": [
       "<matplotlib.figure.Figure at 0x2174fedd438>"
      ]
     },
     "metadata": {},
     "output_type": "display_data"
    }
   ],
   "source": [
    "#放文字注释\n",
    "def plotMidText(cntrPt, parentPt, txtString):\n",
    "    xMid = (parentPt[0]-cntrPt[0])/2.0 + cntrPt[0]\n",
    "    yMid = (parentPt[1]-cntrPt[1])/2.0 + cntrPt[1]\n",
    "    createPlot.ax1.text(xMid, yMid, txtString)\n",
    "\n",
    "#画树的预备工作\n",
    "def plotTree(myTree, parentPt, nodeTxt):\n",
    "    numLeafs = getNumLeafs(myTree)\n",
    "    depth = getTreeDepth(myTree)\n",
    "    firstSides = list(myTree.keys()) \n",
    "    firstStr = firstSides[0]\n",
    "    cntrPt = (plotTree.xOff + (1.0 + float(numLeafs))/2.0/plotTree.totalW, plotTree.yOff)\n",
    "    plotMidText(cntrPt, parentPt, nodeTxt)\n",
    "    plotNode(firstStr, cntrPt, parentPt, decisionNode)\n",
    "    secondDict = myTree[firstStr]\n",
    "    plotTree.yOff = plotTree.yOff - 1.0/plotTree.totalD\n",
    "    for key in secondDict.keys():\n",
    "        if type(secondDict[key]).__name__=='dict':\n",
    "            plotTree(secondDict[key],cntrPt,str(key))\n",
    "        else:\n",
    "            plotTree.xOff = plotTree.xOff + 1.0/plotTree.totalW\n",
    "            plotNode(secondDict[key], (plotTree.xOff, plotTree.yOff), cntrPt, leafNode)\n",
    "            plotMidText((plotTree.xOff, plotTree.yOff), cntrPt, str(key))\n",
    "    plotTree.yOff = plotTree.yOff + 1.0/plotTree.totalD\n",
    "\n",
    "#画出图形来\n",
    "def createPlot(inTree):\n",
    "    fig = plt.figure(1, facecolor='white')\n",
    "    fig.clf()\n",
    "    axprops = dict(xticks=[], yticks=[])\n",
    "    createPlot.ax1 = plt.subplot(111, frameon=False, **axprops)\n",
    "    plotTree.totalW = float(getNumLeafs(inTree))\n",
    "    plotTree.totalD = float(getTreeDepth(inTree))\n",
    "    plotTree.xOff = -0.5/plotTree.totalW; plotTree.yOff = 1.0;\n",
    "    plotTree(inTree, (0.5,1.0), '')\n",
    "    plt.show()\n",
    "\n",
    "createPlot(myTree)"
   ]
  },
  {
   "cell_type": "code",
   "execution_count": null,
   "metadata": {
    "collapsed": true
   },
   "outputs": [],
   "source": []
  }
 ],
 "metadata": {
  "anaconda-cloud": {},
  "kernelspec": {
   "display_name": "Python [Root]",
   "language": "python",
   "name": "Python [Root]"
  },
  "language_info": {
   "codemirror_mode": {
    "name": "ipython",
    "version": 3
   },
   "file_extension": ".py",
   "mimetype": "text/x-python",
   "name": "python",
   "nbconvert_exporter": "python",
   "pygments_lexer": "ipython3",
   "version": "3.5.2"
  }
 },
 "nbformat": 4,
 "nbformat_minor": 0
}
